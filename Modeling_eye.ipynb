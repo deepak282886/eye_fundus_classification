{
  "nbformat": 4,
  "nbformat_minor": 0,
  "metadata": {
    "colab": {
      "name": "Modeling_eye.ipynb",
      "provenance": [],
      "collapsed_sections": [
        "ctAYL51Z5Jud"
      ],
      "machine_shape": "hm"
    },
    "kernelspec": {
      "name": "python3",
      "display_name": "Python 3"
    },
    "language_info": {
      "name": "python"
    },
    "accelerator": "GPU",
    "widgets": {
      "application/vnd.jupyter.widget-state+json": {
        "9939808e012a42a88586ba5667f2501c": {
          "model_module": "@jupyter-widgets/controls",
          "model_name": "HBoxModel",
          "model_module_version": "1.5.0",
          "state": {
            "_view_name": "HBoxView",
            "_dom_classes": [],
            "_model_name": "HBoxModel",
            "_view_module": "@jupyter-widgets/controls",
            "_model_module_version": "1.5.0",
            "_view_count": null,
            "_view_module_version": "1.5.0",
            "box_style": "",
            "layout": "IPY_MODEL_f59248054e2540e3b4f72991159232bb",
            "_model_module": "@jupyter-widgets/controls",
            "children": [
              "IPY_MODEL_11ab576688f04a23a95611e2df42b53b",
              "IPY_MODEL_cdb5003275d64d2499742c6199810452",
              "IPY_MODEL_2ec6d4075d494b959637f13148e8fbf6"
            ]
          }
        },
        "f59248054e2540e3b4f72991159232bb": {
          "model_module": "@jupyter-widgets/base",
          "model_name": "LayoutModel",
          "model_module_version": "1.2.0",
          "state": {
            "_view_name": "LayoutView",
            "grid_template_rows": null,
            "right": null,
            "justify_content": null,
            "_view_module": "@jupyter-widgets/base",
            "overflow": null,
            "_model_module_version": "1.2.0",
            "_view_count": null,
            "flex_flow": null,
            "width": null,
            "min_width": null,
            "border": null,
            "align_items": null,
            "bottom": null,
            "_model_module": "@jupyter-widgets/base",
            "top": null,
            "grid_column": null,
            "overflow_y": null,
            "overflow_x": null,
            "grid_auto_flow": null,
            "grid_area": null,
            "grid_template_columns": null,
            "flex": null,
            "_model_name": "LayoutModel",
            "justify_items": null,
            "grid_row": null,
            "max_height": null,
            "align_content": null,
            "visibility": null,
            "align_self": null,
            "height": null,
            "min_height": null,
            "padding": null,
            "grid_auto_rows": null,
            "grid_gap": null,
            "max_width": null,
            "order": null,
            "_view_module_version": "1.2.0",
            "grid_template_areas": null,
            "object_position": null,
            "object_fit": null,
            "grid_auto_columns": null,
            "margin": null,
            "display": null,
            "left": null
          }
        },
        "11ab576688f04a23a95611e2df42b53b": {
          "model_module": "@jupyter-widgets/controls",
          "model_name": "HTMLModel",
          "model_module_version": "1.5.0",
          "state": {
            "_view_name": "HTMLView",
            "style": "IPY_MODEL_b2a4bde10b4e4e1b9459ab8cf1e53009",
            "_dom_classes": [],
            "description": "",
            "_model_name": "HTMLModel",
            "placeholder": "​",
            "_view_module": "@jupyter-widgets/controls",
            "_model_module_version": "1.5.0",
            "value": "100%",
            "_view_count": null,
            "_view_module_version": "1.5.0",
            "description_tooltip": null,
            "_model_module": "@jupyter-widgets/controls",
            "layout": "IPY_MODEL_a0315f6c788f44da9860aac60f12725c"
          }
        },
        "cdb5003275d64d2499742c6199810452": {
          "model_module": "@jupyter-widgets/controls",
          "model_name": "FloatProgressModel",
          "model_module_version": "1.5.0",
          "state": {
            "_view_name": "ProgressView",
            "style": "IPY_MODEL_ff469c419fa844cc89da30576dd87fd8",
            "_dom_classes": [],
            "description": "",
            "_model_name": "FloatProgressModel",
            "bar_style": "success",
            "max": 1000,
            "_view_module": "@jupyter-widgets/controls",
            "_model_module_version": "1.5.0",
            "value": 1000,
            "_view_count": null,
            "_view_module_version": "1.5.0",
            "orientation": "horizontal",
            "min": 0,
            "description_tooltip": null,
            "_model_module": "@jupyter-widgets/controls",
            "layout": "IPY_MODEL_521bdae8ecd44a7f86c1dc3696240f23"
          }
        },
        "2ec6d4075d494b959637f13148e8fbf6": {
          "model_module": "@jupyter-widgets/controls",
          "model_name": "HTMLModel",
          "model_module_version": "1.5.0",
          "state": {
            "_view_name": "HTMLView",
            "style": "IPY_MODEL_ae6657ef51af419e9e90c591757c6f74",
            "_dom_classes": [],
            "description": "",
            "_model_name": "HTMLModel",
            "placeholder": "​",
            "_view_module": "@jupyter-widgets/controls",
            "_model_module_version": "1.5.0",
            "value": " 1000/1000 [00:13&lt;00:00, 75.87it/s]",
            "_view_count": null,
            "_view_module_version": "1.5.0",
            "description_tooltip": null,
            "_model_module": "@jupyter-widgets/controls",
            "layout": "IPY_MODEL_dc5ebbc030b444399135761fd46d9a44"
          }
        },
        "b2a4bde10b4e4e1b9459ab8cf1e53009": {
          "model_module": "@jupyter-widgets/controls",
          "model_name": "DescriptionStyleModel",
          "model_module_version": "1.5.0",
          "state": {
            "_view_name": "StyleView",
            "_model_name": "DescriptionStyleModel",
            "description_width": "",
            "_view_module": "@jupyter-widgets/base",
            "_model_module_version": "1.5.0",
            "_view_count": null,
            "_view_module_version": "1.2.0",
            "_model_module": "@jupyter-widgets/controls"
          }
        },
        "a0315f6c788f44da9860aac60f12725c": {
          "model_module": "@jupyter-widgets/base",
          "model_name": "LayoutModel",
          "model_module_version": "1.2.0",
          "state": {
            "_view_name": "LayoutView",
            "grid_template_rows": null,
            "right": null,
            "justify_content": null,
            "_view_module": "@jupyter-widgets/base",
            "overflow": null,
            "_model_module_version": "1.2.0",
            "_view_count": null,
            "flex_flow": null,
            "width": null,
            "min_width": null,
            "border": null,
            "align_items": null,
            "bottom": null,
            "_model_module": "@jupyter-widgets/base",
            "top": null,
            "grid_column": null,
            "overflow_y": null,
            "overflow_x": null,
            "grid_auto_flow": null,
            "grid_area": null,
            "grid_template_columns": null,
            "flex": null,
            "_model_name": "LayoutModel",
            "justify_items": null,
            "grid_row": null,
            "max_height": null,
            "align_content": null,
            "visibility": null,
            "align_self": null,
            "height": null,
            "min_height": null,
            "padding": null,
            "grid_auto_rows": null,
            "grid_gap": null,
            "max_width": null,
            "order": null,
            "_view_module_version": "1.2.0",
            "grid_template_areas": null,
            "object_position": null,
            "object_fit": null,
            "grid_auto_columns": null,
            "margin": null,
            "display": null,
            "left": null
          }
        },
        "ff469c419fa844cc89da30576dd87fd8": {
          "model_module": "@jupyter-widgets/controls",
          "model_name": "ProgressStyleModel",
          "model_module_version": "1.5.0",
          "state": {
            "_view_name": "StyleView",
            "_model_name": "ProgressStyleModel",
            "description_width": "",
            "_view_module": "@jupyter-widgets/base",
            "_model_module_version": "1.5.0",
            "_view_count": null,
            "_view_module_version": "1.2.0",
            "bar_color": null,
            "_model_module": "@jupyter-widgets/controls"
          }
        },
        "521bdae8ecd44a7f86c1dc3696240f23": {
          "model_module": "@jupyter-widgets/base",
          "model_name": "LayoutModel",
          "model_module_version": "1.2.0",
          "state": {
            "_view_name": "LayoutView",
            "grid_template_rows": null,
            "right": null,
            "justify_content": null,
            "_view_module": "@jupyter-widgets/base",
            "overflow": null,
            "_model_module_version": "1.2.0",
            "_view_count": null,
            "flex_flow": null,
            "width": null,
            "min_width": null,
            "border": null,
            "align_items": null,
            "bottom": null,
            "_model_module": "@jupyter-widgets/base",
            "top": null,
            "grid_column": null,
            "overflow_y": null,
            "overflow_x": null,
            "grid_auto_flow": null,
            "grid_area": null,
            "grid_template_columns": null,
            "flex": null,
            "_model_name": "LayoutModel",
            "justify_items": null,
            "grid_row": null,
            "max_height": null,
            "align_content": null,
            "visibility": null,
            "align_self": null,
            "height": null,
            "min_height": null,
            "padding": null,
            "grid_auto_rows": null,
            "grid_gap": null,
            "max_width": null,
            "order": null,
            "_view_module_version": "1.2.0",
            "grid_template_areas": null,
            "object_position": null,
            "object_fit": null,
            "grid_auto_columns": null,
            "margin": null,
            "display": null,
            "left": null
          }
        },
        "ae6657ef51af419e9e90c591757c6f74": {
          "model_module": "@jupyter-widgets/controls",
          "model_name": "DescriptionStyleModel",
          "model_module_version": "1.5.0",
          "state": {
            "_view_name": "StyleView",
            "_model_name": "DescriptionStyleModel",
            "description_width": "",
            "_view_module": "@jupyter-widgets/base",
            "_model_module_version": "1.5.0",
            "_view_count": null,
            "_view_module_version": "1.2.0",
            "_model_module": "@jupyter-widgets/controls"
          }
        },
        "dc5ebbc030b444399135761fd46d9a44": {
          "model_module": "@jupyter-widgets/base",
          "model_name": "LayoutModel",
          "model_module_version": "1.2.0",
          "state": {
            "_view_name": "LayoutView",
            "grid_template_rows": null,
            "right": null,
            "justify_content": null,
            "_view_module": "@jupyter-widgets/base",
            "overflow": null,
            "_model_module_version": "1.2.0",
            "_view_count": null,
            "flex_flow": null,
            "width": null,
            "min_width": null,
            "border": null,
            "align_items": null,
            "bottom": null,
            "_model_module": "@jupyter-widgets/base",
            "top": null,
            "grid_column": null,
            "overflow_y": null,
            "overflow_x": null,
            "grid_auto_flow": null,
            "grid_area": null,
            "grid_template_columns": null,
            "flex": null,
            "_model_name": "LayoutModel",
            "justify_items": null,
            "grid_row": null,
            "max_height": null,
            "align_content": null,
            "visibility": null,
            "align_self": null,
            "height": null,
            "min_height": null,
            "padding": null,
            "grid_auto_rows": null,
            "grid_gap": null,
            "max_width": null,
            "order": null,
            "_view_module_version": "1.2.0",
            "grid_template_areas": null,
            "object_position": null,
            "object_fit": null,
            "grid_auto_columns": null,
            "margin": null,
            "display": null,
            "left": null
          }
        },
        "607ea62d410b4f0892a81749a2cbf1c7": {
          "model_module": "@jupyter-widgets/controls",
          "model_name": "HBoxModel",
          "model_module_version": "1.5.0",
          "state": {
            "_view_name": "HBoxView",
            "_dom_classes": [],
            "_model_name": "HBoxModel",
            "_view_module": "@jupyter-widgets/controls",
            "_model_module_version": "1.5.0",
            "_view_count": null,
            "_view_module_version": "1.5.0",
            "box_style": "",
            "layout": "IPY_MODEL_4ad831f9ccb1498d847e9ef6d3b49892",
            "_model_module": "@jupyter-widgets/controls",
            "children": [
              "IPY_MODEL_33ec07e910e2413f828b0c5a54b01aef",
              "IPY_MODEL_124c9b4b51ca4658b3e5273e83a0d4bd",
              "IPY_MODEL_c19e97c5f5bc4887bfd4a9e36a226961"
            ]
          }
        },
        "4ad831f9ccb1498d847e9ef6d3b49892": {
          "model_module": "@jupyter-widgets/base",
          "model_name": "LayoutModel",
          "model_module_version": "1.2.0",
          "state": {
            "_view_name": "LayoutView",
            "grid_template_rows": null,
            "right": null,
            "justify_content": null,
            "_view_module": "@jupyter-widgets/base",
            "overflow": null,
            "_model_module_version": "1.2.0",
            "_view_count": null,
            "flex_flow": null,
            "width": null,
            "min_width": null,
            "border": null,
            "align_items": null,
            "bottom": null,
            "_model_module": "@jupyter-widgets/base",
            "top": null,
            "grid_column": null,
            "overflow_y": null,
            "overflow_x": null,
            "grid_auto_flow": null,
            "grid_area": null,
            "grid_template_columns": null,
            "flex": null,
            "_model_name": "LayoutModel",
            "justify_items": null,
            "grid_row": null,
            "max_height": null,
            "align_content": null,
            "visibility": null,
            "align_self": null,
            "height": null,
            "min_height": null,
            "padding": null,
            "grid_auto_rows": null,
            "grid_gap": null,
            "max_width": null,
            "order": null,
            "_view_module_version": "1.2.0",
            "grid_template_areas": null,
            "object_position": null,
            "object_fit": null,
            "grid_auto_columns": null,
            "margin": null,
            "display": null,
            "left": null
          }
        },
        "33ec07e910e2413f828b0c5a54b01aef": {
          "model_module": "@jupyter-widgets/controls",
          "model_name": "HTMLModel",
          "model_module_version": "1.5.0",
          "state": {
            "_view_name": "HTMLView",
            "style": "IPY_MODEL_303ff851c35c4e339a7a6173cc0a2c77",
            "_dom_classes": [],
            "description": "",
            "_model_name": "HTMLModel",
            "placeholder": "​",
            "_view_module": "@jupyter-widgets/controls",
            "_model_module_version": "1.5.0",
            "value": "100%",
            "_view_count": null,
            "_view_module_version": "1.5.0",
            "description_tooltip": null,
            "_model_module": "@jupyter-widgets/controls",
            "layout": "IPY_MODEL_62e4bd3e04c74c5199631d35b8f13eb6"
          }
        },
        "124c9b4b51ca4658b3e5273e83a0d4bd": {
          "model_module": "@jupyter-widgets/controls",
          "model_name": "FloatProgressModel",
          "model_module_version": "1.5.0",
          "state": {
            "_view_name": "ProgressView",
            "style": "IPY_MODEL_9f64b6fc9fd149daa41eb6189f9b9ae5",
            "_dom_classes": [],
            "description": "",
            "_model_name": "FloatProgressModel",
            "bar_style": "success",
            "max": 1000,
            "_view_module": "@jupyter-widgets/controls",
            "_model_module_version": "1.5.0",
            "value": 1000,
            "_view_count": null,
            "_view_module_version": "1.5.0",
            "orientation": "horizontal",
            "min": 0,
            "description_tooltip": null,
            "_model_module": "@jupyter-widgets/controls",
            "layout": "IPY_MODEL_3acc4c8a2b4d472bb2231334e9bb4d85"
          }
        },
        "c19e97c5f5bc4887bfd4a9e36a226961": {
          "model_module": "@jupyter-widgets/controls",
          "model_name": "HTMLModel",
          "model_module_version": "1.5.0",
          "state": {
            "_view_name": "HTMLView",
            "style": "IPY_MODEL_367676a37e504397abb918580addbec0",
            "_dom_classes": [],
            "description": "",
            "_model_name": "HTMLModel",
            "placeholder": "​",
            "_view_module": "@jupyter-widgets/controls",
            "_model_module_version": "1.5.0",
            "value": " 1000/1000 [00:26&lt;00:00, 50.85it/s]",
            "_view_count": null,
            "_view_module_version": "1.5.0",
            "description_tooltip": null,
            "_model_module": "@jupyter-widgets/controls",
            "layout": "IPY_MODEL_7c4d948c7ba643a6901e74afb5789fc2"
          }
        },
        "303ff851c35c4e339a7a6173cc0a2c77": {
          "model_module": "@jupyter-widgets/controls",
          "model_name": "DescriptionStyleModel",
          "model_module_version": "1.5.0",
          "state": {
            "_view_name": "StyleView",
            "_model_name": "DescriptionStyleModel",
            "description_width": "",
            "_view_module": "@jupyter-widgets/base",
            "_model_module_version": "1.5.0",
            "_view_count": null,
            "_view_module_version": "1.2.0",
            "_model_module": "@jupyter-widgets/controls"
          }
        },
        "62e4bd3e04c74c5199631d35b8f13eb6": {
          "model_module": "@jupyter-widgets/base",
          "model_name": "LayoutModel",
          "model_module_version": "1.2.0",
          "state": {
            "_view_name": "LayoutView",
            "grid_template_rows": null,
            "right": null,
            "justify_content": null,
            "_view_module": "@jupyter-widgets/base",
            "overflow": null,
            "_model_module_version": "1.2.0",
            "_view_count": null,
            "flex_flow": null,
            "width": null,
            "min_width": null,
            "border": null,
            "align_items": null,
            "bottom": null,
            "_model_module": "@jupyter-widgets/base",
            "top": null,
            "grid_column": null,
            "overflow_y": null,
            "overflow_x": null,
            "grid_auto_flow": null,
            "grid_area": null,
            "grid_template_columns": null,
            "flex": null,
            "_model_name": "LayoutModel",
            "justify_items": null,
            "grid_row": null,
            "max_height": null,
            "align_content": null,
            "visibility": null,
            "align_self": null,
            "height": null,
            "min_height": null,
            "padding": null,
            "grid_auto_rows": null,
            "grid_gap": null,
            "max_width": null,
            "order": null,
            "_view_module_version": "1.2.0",
            "grid_template_areas": null,
            "object_position": null,
            "object_fit": null,
            "grid_auto_columns": null,
            "margin": null,
            "display": null,
            "left": null
          }
        },
        "9f64b6fc9fd149daa41eb6189f9b9ae5": {
          "model_module": "@jupyter-widgets/controls",
          "model_name": "ProgressStyleModel",
          "model_module_version": "1.5.0",
          "state": {
            "_view_name": "StyleView",
            "_model_name": "ProgressStyleModel",
            "description_width": "",
            "_view_module": "@jupyter-widgets/base",
            "_model_module_version": "1.5.0",
            "_view_count": null,
            "_view_module_version": "1.2.0",
            "bar_color": null,
            "_model_module": "@jupyter-widgets/controls"
          }
        },
        "3acc4c8a2b4d472bb2231334e9bb4d85": {
          "model_module": "@jupyter-widgets/base",
          "model_name": "LayoutModel",
          "model_module_version": "1.2.0",
          "state": {
            "_view_name": "LayoutView",
            "grid_template_rows": null,
            "right": null,
            "justify_content": null,
            "_view_module": "@jupyter-widgets/base",
            "overflow": null,
            "_model_module_version": "1.2.0",
            "_view_count": null,
            "flex_flow": null,
            "width": null,
            "min_width": null,
            "border": null,
            "align_items": null,
            "bottom": null,
            "_model_module": "@jupyter-widgets/base",
            "top": null,
            "grid_column": null,
            "overflow_y": null,
            "overflow_x": null,
            "grid_auto_flow": null,
            "grid_area": null,
            "grid_template_columns": null,
            "flex": null,
            "_model_name": "LayoutModel",
            "justify_items": null,
            "grid_row": null,
            "max_height": null,
            "align_content": null,
            "visibility": null,
            "align_self": null,
            "height": null,
            "min_height": null,
            "padding": null,
            "grid_auto_rows": null,
            "grid_gap": null,
            "max_width": null,
            "order": null,
            "_view_module_version": "1.2.0",
            "grid_template_areas": null,
            "object_position": null,
            "object_fit": null,
            "grid_auto_columns": null,
            "margin": null,
            "display": null,
            "left": null
          }
        },
        "367676a37e504397abb918580addbec0": {
          "model_module": "@jupyter-widgets/controls",
          "model_name": "DescriptionStyleModel",
          "model_module_version": "1.5.0",
          "state": {
            "_view_name": "StyleView",
            "_model_name": "DescriptionStyleModel",
            "description_width": "",
            "_view_module": "@jupyter-widgets/base",
            "_model_module_version": "1.5.0",
            "_view_count": null,
            "_view_module_version": "1.2.0",
            "_model_module": "@jupyter-widgets/controls"
          }
        },
        "7c4d948c7ba643a6901e74afb5789fc2": {
          "model_module": "@jupyter-widgets/base",
          "model_name": "LayoutModel",
          "model_module_version": "1.2.0",
          "state": {
            "_view_name": "LayoutView",
            "grid_template_rows": null,
            "right": null,
            "justify_content": null,
            "_view_module": "@jupyter-widgets/base",
            "overflow": null,
            "_model_module_version": "1.2.0",
            "_view_count": null,
            "flex_flow": null,
            "width": null,
            "min_width": null,
            "border": null,
            "align_items": null,
            "bottom": null,
            "_model_module": "@jupyter-widgets/base",
            "top": null,
            "grid_column": null,
            "overflow_y": null,
            "overflow_x": null,
            "grid_auto_flow": null,
            "grid_area": null,
            "grid_template_columns": null,
            "flex": null,
            "_model_name": "LayoutModel",
            "justify_items": null,
            "grid_row": null,
            "max_height": null,
            "align_content": null,
            "visibility": null,
            "align_self": null,
            "height": null,
            "min_height": null,
            "padding": null,
            "grid_auto_rows": null,
            "grid_gap": null,
            "max_width": null,
            "order": null,
            "_view_module_version": "1.2.0",
            "grid_template_areas": null,
            "object_position": null,
            "object_fit": null,
            "grid_auto_columns": null,
            "margin": null,
            "display": null,
            "left": null
          }
        },
        "80747a7223244b1bbac6c1dbf2ec5fc6": {
          "model_module": "@jupyter-widgets/controls",
          "model_name": "HBoxModel",
          "model_module_version": "1.5.0",
          "state": {
            "_view_name": "HBoxView",
            "_dom_classes": [],
            "_model_name": "HBoxModel",
            "_view_module": "@jupyter-widgets/controls",
            "_model_module_version": "1.5.0",
            "_view_count": null,
            "_view_module_version": "1.5.0",
            "box_style": "",
            "layout": "IPY_MODEL_c1c68d7a1cbd4f5485124ac8b7da1158",
            "_model_module": "@jupyter-widgets/controls",
            "children": [
              "IPY_MODEL_64fe2fff27974649b28fcb4dfd102b0f",
              "IPY_MODEL_4e1db9ed2c224c3cbf51ced2643b60fb",
              "IPY_MODEL_4d75117c1f8f424db2dd3e6c4b4a8b00"
            ]
          }
        },
        "c1c68d7a1cbd4f5485124ac8b7da1158": {
          "model_module": "@jupyter-widgets/base",
          "model_name": "LayoutModel",
          "model_module_version": "1.2.0",
          "state": {
            "_view_name": "LayoutView",
            "grid_template_rows": null,
            "right": null,
            "justify_content": null,
            "_view_module": "@jupyter-widgets/base",
            "overflow": null,
            "_model_module_version": "1.2.0",
            "_view_count": null,
            "flex_flow": null,
            "width": null,
            "min_width": null,
            "border": null,
            "align_items": null,
            "bottom": null,
            "_model_module": "@jupyter-widgets/base",
            "top": null,
            "grid_column": null,
            "overflow_y": null,
            "overflow_x": null,
            "grid_auto_flow": null,
            "grid_area": null,
            "grid_template_columns": null,
            "flex": null,
            "_model_name": "LayoutModel",
            "justify_items": null,
            "grid_row": null,
            "max_height": null,
            "align_content": null,
            "visibility": null,
            "align_self": null,
            "height": null,
            "min_height": null,
            "padding": null,
            "grid_auto_rows": null,
            "grid_gap": null,
            "max_width": null,
            "order": null,
            "_view_module_version": "1.2.0",
            "grid_template_areas": null,
            "object_position": null,
            "object_fit": null,
            "grid_auto_columns": null,
            "margin": null,
            "display": null,
            "left": null
          }
        },
        "64fe2fff27974649b28fcb4dfd102b0f": {
          "model_module": "@jupyter-widgets/controls",
          "model_name": "HTMLModel",
          "model_module_version": "1.5.0",
          "state": {
            "_view_name": "HTMLView",
            "style": "IPY_MODEL_2a7d38f5da5243279770b4aa2d7b3007",
            "_dom_classes": [],
            "description": "",
            "_model_name": "HTMLModel",
            "placeholder": "​",
            "_view_module": "@jupyter-widgets/controls",
            "_model_module_version": "1.5.0",
            "value": "100%",
            "_view_count": null,
            "_view_module_version": "1.5.0",
            "description_tooltip": null,
            "_model_module": "@jupyter-widgets/controls",
            "layout": "IPY_MODEL_216740f7d4df4dcbbb61169b46bf85a1"
          }
        },
        "4e1db9ed2c224c3cbf51ced2643b60fb": {
          "model_module": "@jupyter-widgets/controls",
          "model_name": "FloatProgressModel",
          "model_module_version": "1.5.0",
          "state": {
            "_view_name": "ProgressView",
            "style": "IPY_MODEL_483fee0683284083af147796fc251265",
            "_dom_classes": [],
            "description": "",
            "_model_name": "FloatProgressModel",
            "bar_style": "success",
            "max": 1000,
            "_view_module": "@jupyter-widgets/controls",
            "_model_module_version": "1.5.0",
            "value": 1000,
            "_view_count": null,
            "_view_module_version": "1.5.0",
            "orientation": "horizontal",
            "min": 0,
            "description_tooltip": null,
            "_model_module": "@jupyter-widgets/controls",
            "layout": "IPY_MODEL_5190ffdadebb40e4a4b2d0dc40c4519b"
          }
        },
        "4d75117c1f8f424db2dd3e6c4b4a8b00": {
          "model_module": "@jupyter-widgets/controls",
          "model_name": "HTMLModel",
          "model_module_version": "1.5.0",
          "state": {
            "_view_name": "HTMLView",
            "style": "IPY_MODEL_8878936d28ac453abb73e821e4c4b6f3",
            "_dom_classes": [],
            "description": "",
            "_model_name": "HTMLModel",
            "placeholder": "​",
            "_view_module": "@jupyter-widgets/controls",
            "_model_module_version": "1.5.0",
            "value": " 1000/1000 [00:13&lt;00:00, 85.45it/s]",
            "_view_count": null,
            "_view_module_version": "1.5.0",
            "description_tooltip": null,
            "_model_module": "@jupyter-widgets/controls",
            "layout": "IPY_MODEL_3bd299c4ed7b43f7a758dc6f76275a13"
          }
        },
        "2a7d38f5da5243279770b4aa2d7b3007": {
          "model_module": "@jupyter-widgets/controls",
          "model_name": "DescriptionStyleModel",
          "model_module_version": "1.5.0",
          "state": {
            "_view_name": "StyleView",
            "_model_name": "DescriptionStyleModel",
            "description_width": "",
            "_view_module": "@jupyter-widgets/base",
            "_model_module_version": "1.5.0",
            "_view_count": null,
            "_view_module_version": "1.2.0",
            "_model_module": "@jupyter-widgets/controls"
          }
        },
        "216740f7d4df4dcbbb61169b46bf85a1": {
          "model_module": "@jupyter-widgets/base",
          "model_name": "LayoutModel",
          "model_module_version": "1.2.0",
          "state": {
            "_view_name": "LayoutView",
            "grid_template_rows": null,
            "right": null,
            "justify_content": null,
            "_view_module": "@jupyter-widgets/base",
            "overflow": null,
            "_model_module_version": "1.2.0",
            "_view_count": null,
            "flex_flow": null,
            "width": null,
            "min_width": null,
            "border": null,
            "align_items": null,
            "bottom": null,
            "_model_module": "@jupyter-widgets/base",
            "top": null,
            "grid_column": null,
            "overflow_y": null,
            "overflow_x": null,
            "grid_auto_flow": null,
            "grid_area": null,
            "grid_template_columns": null,
            "flex": null,
            "_model_name": "LayoutModel",
            "justify_items": null,
            "grid_row": null,
            "max_height": null,
            "align_content": null,
            "visibility": null,
            "align_self": null,
            "height": null,
            "min_height": null,
            "padding": null,
            "grid_auto_rows": null,
            "grid_gap": null,
            "max_width": null,
            "order": null,
            "_view_module_version": "1.2.0",
            "grid_template_areas": null,
            "object_position": null,
            "object_fit": null,
            "grid_auto_columns": null,
            "margin": null,
            "display": null,
            "left": null
          }
        },
        "483fee0683284083af147796fc251265": {
          "model_module": "@jupyter-widgets/controls",
          "model_name": "ProgressStyleModel",
          "model_module_version": "1.5.0",
          "state": {
            "_view_name": "StyleView",
            "_model_name": "ProgressStyleModel",
            "description_width": "",
            "_view_module": "@jupyter-widgets/base",
            "_model_module_version": "1.5.0",
            "_view_count": null,
            "_view_module_version": "1.2.0",
            "bar_color": null,
            "_model_module": "@jupyter-widgets/controls"
          }
        },
        "5190ffdadebb40e4a4b2d0dc40c4519b": {
          "model_module": "@jupyter-widgets/base",
          "model_name": "LayoutModel",
          "model_module_version": "1.2.0",
          "state": {
            "_view_name": "LayoutView",
            "grid_template_rows": null,
            "right": null,
            "justify_content": null,
            "_view_module": "@jupyter-widgets/base",
            "overflow": null,
            "_model_module_version": "1.2.0",
            "_view_count": null,
            "flex_flow": null,
            "width": null,
            "min_width": null,
            "border": null,
            "align_items": null,
            "bottom": null,
            "_model_module": "@jupyter-widgets/base",
            "top": null,
            "grid_column": null,
            "overflow_y": null,
            "overflow_x": null,
            "grid_auto_flow": null,
            "grid_area": null,
            "grid_template_columns": null,
            "flex": null,
            "_model_name": "LayoutModel",
            "justify_items": null,
            "grid_row": null,
            "max_height": null,
            "align_content": null,
            "visibility": null,
            "align_self": null,
            "height": null,
            "min_height": null,
            "padding": null,
            "grid_auto_rows": null,
            "grid_gap": null,
            "max_width": null,
            "order": null,
            "_view_module_version": "1.2.0",
            "grid_template_areas": null,
            "object_position": null,
            "object_fit": null,
            "grid_auto_columns": null,
            "margin": null,
            "display": null,
            "left": null
          }
        },
        "8878936d28ac453abb73e821e4c4b6f3": {
          "model_module": "@jupyter-widgets/controls",
          "model_name": "DescriptionStyleModel",
          "model_module_version": "1.5.0",
          "state": {
            "_view_name": "StyleView",
            "_model_name": "DescriptionStyleModel",
            "description_width": "",
            "_view_module": "@jupyter-widgets/base",
            "_model_module_version": "1.5.0",
            "_view_count": null,
            "_view_module_version": "1.2.0",
            "_model_module": "@jupyter-widgets/controls"
          }
        },
        "3bd299c4ed7b43f7a758dc6f76275a13": {
          "model_module": "@jupyter-widgets/base",
          "model_name": "LayoutModel",
          "model_module_version": "1.2.0",
          "state": {
            "_view_name": "LayoutView",
            "grid_template_rows": null,
            "right": null,
            "justify_content": null,
            "_view_module": "@jupyter-widgets/base",
            "overflow": null,
            "_model_module_version": "1.2.0",
            "_view_count": null,
            "flex_flow": null,
            "width": null,
            "min_width": null,
            "border": null,
            "align_items": null,
            "bottom": null,
            "_model_module": "@jupyter-widgets/base",
            "top": null,
            "grid_column": null,
            "overflow_y": null,
            "overflow_x": null,
            "grid_auto_flow": null,
            "grid_area": null,
            "grid_template_columns": null,
            "flex": null,
            "_model_name": "LayoutModel",
            "justify_items": null,
            "grid_row": null,
            "max_height": null,
            "align_content": null,
            "visibility": null,
            "align_self": null,
            "height": null,
            "min_height": null,
            "padding": null,
            "grid_auto_rows": null,
            "grid_gap": null,
            "max_width": null,
            "order": null,
            "_view_module_version": "1.2.0",
            "grid_template_areas": null,
            "object_position": null,
            "object_fit": null,
            "grid_auto_columns": null,
            "margin": null,
            "display": null,
            "left": null
          }
        },
        "a9397bea7f2241f8b6f9cf78e5b0a2bd": {
          "model_module": "@jupyter-widgets/controls",
          "model_name": "HBoxModel",
          "model_module_version": "1.5.0",
          "state": {
            "_view_name": "HBoxView",
            "_dom_classes": [],
            "_model_name": "HBoxModel",
            "_view_module": "@jupyter-widgets/controls",
            "_model_module_version": "1.5.0",
            "_view_count": null,
            "_view_module_version": "1.5.0",
            "box_style": "",
            "layout": "IPY_MODEL_58fde1692feb4afc8cc2d0f231954ecd",
            "_model_module": "@jupyter-widgets/controls",
            "children": [
              "IPY_MODEL_37b356c34e1b4d89bc60503473f28a09",
              "IPY_MODEL_6591cf3ff6a34b43ba25637b12baa4cb",
              "IPY_MODEL_6cc179d3ab1d45cdb5dcf0df7baa587f"
            ]
          }
        },
        "58fde1692feb4afc8cc2d0f231954ecd": {
          "model_module": "@jupyter-widgets/base",
          "model_name": "LayoutModel",
          "model_module_version": "1.2.0",
          "state": {
            "_view_name": "LayoutView",
            "grid_template_rows": null,
            "right": null,
            "justify_content": null,
            "_view_module": "@jupyter-widgets/base",
            "overflow": null,
            "_model_module_version": "1.2.0",
            "_view_count": null,
            "flex_flow": null,
            "width": null,
            "min_width": null,
            "border": null,
            "align_items": null,
            "bottom": null,
            "_model_module": "@jupyter-widgets/base",
            "top": null,
            "grid_column": null,
            "overflow_y": null,
            "overflow_x": null,
            "grid_auto_flow": null,
            "grid_area": null,
            "grid_template_columns": null,
            "flex": null,
            "_model_name": "LayoutModel",
            "justify_items": null,
            "grid_row": null,
            "max_height": null,
            "align_content": null,
            "visibility": null,
            "align_self": null,
            "height": null,
            "min_height": null,
            "padding": null,
            "grid_auto_rows": null,
            "grid_gap": null,
            "max_width": null,
            "order": null,
            "_view_module_version": "1.2.0",
            "grid_template_areas": null,
            "object_position": null,
            "object_fit": null,
            "grid_auto_columns": null,
            "margin": null,
            "display": null,
            "left": null
          }
        },
        "37b356c34e1b4d89bc60503473f28a09": {
          "model_module": "@jupyter-widgets/controls",
          "model_name": "HTMLModel",
          "model_module_version": "1.5.0",
          "state": {
            "_view_name": "HTMLView",
            "style": "IPY_MODEL_731161a1323a4f3aa698c9156d42c0b2",
            "_dom_classes": [],
            "description": "",
            "_model_name": "HTMLModel",
            "placeholder": "​",
            "_view_module": "@jupyter-widgets/controls",
            "_model_module_version": "1.5.0",
            "value": "100%",
            "_view_count": null,
            "_view_module_version": "1.5.0",
            "description_tooltip": null,
            "_model_module": "@jupyter-widgets/controls",
            "layout": "IPY_MODEL_916d60fc14bb441dbe9c7634bb5fd818"
          }
        },
        "6591cf3ff6a34b43ba25637b12baa4cb": {
          "model_module": "@jupyter-widgets/controls",
          "model_name": "FloatProgressModel",
          "model_module_version": "1.5.0",
          "state": {
            "_view_name": "ProgressView",
            "style": "IPY_MODEL_663ce6c3a8bd4a129f665b2219fd8d0b",
            "_dom_classes": [],
            "description": "",
            "_model_name": "FloatProgressModel",
            "bar_style": "success",
            "max": 1000,
            "_view_module": "@jupyter-widgets/controls",
            "_model_module_version": "1.5.0",
            "value": 1000,
            "_view_count": null,
            "_view_module_version": "1.5.0",
            "orientation": "horizontal",
            "min": 0,
            "description_tooltip": null,
            "_model_module": "@jupyter-widgets/controls",
            "layout": "IPY_MODEL_b8a6129d15164f33bc6d870fdec1cbf0"
          }
        },
        "6cc179d3ab1d45cdb5dcf0df7baa587f": {
          "model_module": "@jupyter-widgets/controls",
          "model_name": "HTMLModel",
          "model_module_version": "1.5.0",
          "state": {
            "_view_name": "HTMLView",
            "style": "IPY_MODEL_f6d485d7668e4780baf4ecb1549b4aa6",
            "_dom_classes": [],
            "description": "",
            "_model_name": "HTMLModel",
            "placeholder": "​",
            "_view_module": "@jupyter-widgets/controls",
            "_model_module_version": "1.5.0",
            "value": " 1000/1000 [00:11&lt;00:00, 84.56it/s]",
            "_view_count": null,
            "_view_module_version": "1.5.0",
            "description_tooltip": null,
            "_model_module": "@jupyter-widgets/controls",
            "layout": "IPY_MODEL_a6698ac822b54ccca384ba9446999fbe"
          }
        },
        "731161a1323a4f3aa698c9156d42c0b2": {
          "model_module": "@jupyter-widgets/controls",
          "model_name": "DescriptionStyleModel",
          "model_module_version": "1.5.0",
          "state": {
            "_view_name": "StyleView",
            "_model_name": "DescriptionStyleModel",
            "description_width": "",
            "_view_module": "@jupyter-widgets/base",
            "_model_module_version": "1.5.0",
            "_view_count": null,
            "_view_module_version": "1.2.0",
            "_model_module": "@jupyter-widgets/controls"
          }
        },
        "916d60fc14bb441dbe9c7634bb5fd818": {
          "model_module": "@jupyter-widgets/base",
          "model_name": "LayoutModel",
          "model_module_version": "1.2.0",
          "state": {
            "_view_name": "LayoutView",
            "grid_template_rows": null,
            "right": null,
            "justify_content": null,
            "_view_module": "@jupyter-widgets/base",
            "overflow": null,
            "_model_module_version": "1.2.0",
            "_view_count": null,
            "flex_flow": null,
            "width": null,
            "min_width": null,
            "border": null,
            "align_items": null,
            "bottom": null,
            "_model_module": "@jupyter-widgets/base",
            "top": null,
            "grid_column": null,
            "overflow_y": null,
            "overflow_x": null,
            "grid_auto_flow": null,
            "grid_area": null,
            "grid_template_columns": null,
            "flex": null,
            "_model_name": "LayoutModel",
            "justify_items": null,
            "grid_row": null,
            "max_height": null,
            "align_content": null,
            "visibility": null,
            "align_self": null,
            "height": null,
            "min_height": null,
            "padding": null,
            "grid_auto_rows": null,
            "grid_gap": null,
            "max_width": null,
            "order": null,
            "_view_module_version": "1.2.0",
            "grid_template_areas": null,
            "object_position": null,
            "object_fit": null,
            "grid_auto_columns": null,
            "margin": null,
            "display": null,
            "left": null
          }
        },
        "663ce6c3a8bd4a129f665b2219fd8d0b": {
          "model_module": "@jupyter-widgets/controls",
          "model_name": "ProgressStyleModel",
          "model_module_version": "1.5.0",
          "state": {
            "_view_name": "StyleView",
            "_model_name": "ProgressStyleModel",
            "description_width": "",
            "_view_module": "@jupyter-widgets/base",
            "_model_module_version": "1.5.0",
            "_view_count": null,
            "_view_module_version": "1.2.0",
            "bar_color": null,
            "_model_module": "@jupyter-widgets/controls"
          }
        },
        "b8a6129d15164f33bc6d870fdec1cbf0": {
          "model_module": "@jupyter-widgets/base",
          "model_name": "LayoutModel",
          "model_module_version": "1.2.0",
          "state": {
            "_view_name": "LayoutView",
            "grid_template_rows": null,
            "right": null,
            "justify_content": null,
            "_view_module": "@jupyter-widgets/base",
            "overflow": null,
            "_model_module_version": "1.2.0",
            "_view_count": null,
            "flex_flow": null,
            "width": null,
            "min_width": null,
            "border": null,
            "align_items": null,
            "bottom": null,
            "_model_module": "@jupyter-widgets/base",
            "top": null,
            "grid_column": null,
            "overflow_y": null,
            "overflow_x": null,
            "grid_auto_flow": null,
            "grid_area": null,
            "grid_template_columns": null,
            "flex": null,
            "_model_name": "LayoutModel",
            "justify_items": null,
            "grid_row": null,
            "max_height": null,
            "align_content": null,
            "visibility": null,
            "align_self": null,
            "height": null,
            "min_height": null,
            "padding": null,
            "grid_auto_rows": null,
            "grid_gap": null,
            "max_width": null,
            "order": null,
            "_view_module_version": "1.2.0",
            "grid_template_areas": null,
            "object_position": null,
            "object_fit": null,
            "grid_auto_columns": null,
            "margin": null,
            "display": null,
            "left": null
          }
        },
        "f6d485d7668e4780baf4ecb1549b4aa6": {
          "model_module": "@jupyter-widgets/controls",
          "model_name": "DescriptionStyleModel",
          "model_module_version": "1.5.0",
          "state": {
            "_view_name": "StyleView",
            "_model_name": "DescriptionStyleModel",
            "description_width": "",
            "_view_module": "@jupyter-widgets/base",
            "_model_module_version": "1.5.0",
            "_view_count": null,
            "_view_module_version": "1.2.0",
            "_model_module": "@jupyter-widgets/controls"
          }
        },
        "a6698ac822b54ccca384ba9446999fbe": {
          "model_module": "@jupyter-widgets/base",
          "model_name": "LayoutModel",
          "model_module_version": "1.2.0",
          "state": {
            "_view_name": "LayoutView",
            "grid_template_rows": null,
            "right": null,
            "justify_content": null,
            "_view_module": "@jupyter-widgets/base",
            "overflow": null,
            "_model_module_version": "1.2.0",
            "_view_count": null,
            "flex_flow": null,
            "width": null,
            "min_width": null,
            "border": null,
            "align_items": null,
            "bottom": null,
            "_model_module": "@jupyter-widgets/base",
            "top": null,
            "grid_column": null,
            "overflow_y": null,
            "overflow_x": null,
            "grid_auto_flow": null,
            "grid_area": null,
            "grid_template_columns": null,
            "flex": null,
            "_model_name": "LayoutModel",
            "justify_items": null,
            "grid_row": null,
            "max_height": null,
            "align_content": null,
            "visibility": null,
            "align_self": null,
            "height": null,
            "min_height": null,
            "padding": null,
            "grid_auto_rows": null,
            "grid_gap": null,
            "max_width": null,
            "order": null,
            "_view_module_version": "1.2.0",
            "grid_template_areas": null,
            "object_position": null,
            "object_fit": null,
            "grid_auto_columns": null,
            "margin": null,
            "display": null,
            "left": null
          }
        }
      }
    }
  },
  "cells": [
    {
      "cell_type": "markdown",
      "source": [
        "#Data Preparation"
      ],
      "metadata": {
        "id": "RuiW4LcN5ASw"
      }
    },
    {
      "cell_type": "code",
      "source": [
        "!pip install lime"
      ],
      "metadata": {
        "colab": {
          "base_uri": "https://localhost:8080/"
        },
        "id": "U7fE8ahTyqt_",
        "outputId": "0a2fc1ba-4376-4052-f087-4d60864531bf"
      },
      "execution_count": null,
      "outputs": [
        {
          "output_type": "stream",
          "name": "stdout",
          "text": [
            "Requirement already satisfied: lime in /usr/local/lib/python3.7/dist-packages (0.2.0.1)\n",
            "Requirement already satisfied: numpy in /usr/local/lib/python3.7/dist-packages (from lime) (1.21.5)\n",
            "Requirement already satisfied: scikit-image>=0.12 in /usr/local/lib/python3.7/dist-packages (from lime) (0.18.3)\n",
            "Requirement already satisfied: tqdm in /usr/local/lib/python3.7/dist-packages (from lime) (4.62.3)\n",
            "Requirement already satisfied: matplotlib in /usr/local/lib/python3.7/dist-packages (from lime) (3.2.2)\n",
            "Requirement already satisfied: scipy in /usr/local/lib/python3.7/dist-packages (from lime) (1.4.1)\n",
            "Requirement already satisfied: scikit-learn>=0.18 in /usr/local/lib/python3.7/dist-packages (from lime) (1.0.2)\n",
            "Requirement already satisfied: networkx>=2.0 in /usr/local/lib/python3.7/dist-packages (from scikit-image>=0.12->lime) (2.6.3)\n",
            "Requirement already satisfied: imageio>=2.3.0 in /usr/local/lib/python3.7/dist-packages (from scikit-image>=0.12->lime) (2.4.1)\n",
            "Requirement already satisfied: tifffile>=2019.7.26 in /usr/local/lib/python3.7/dist-packages (from scikit-image>=0.12->lime) (2021.11.2)\n",
            "Requirement already satisfied: pillow!=7.1.0,!=7.1.1,>=4.3.0 in /usr/local/lib/python3.7/dist-packages (from scikit-image>=0.12->lime) (7.1.2)\n",
            "Requirement already satisfied: PyWavelets>=1.1.1 in /usr/local/lib/python3.7/dist-packages (from scikit-image>=0.12->lime) (1.2.0)\n",
            "Requirement already satisfied: kiwisolver>=1.0.1 in /usr/local/lib/python3.7/dist-packages (from matplotlib->lime) (1.3.2)\n",
            "Requirement already satisfied: python-dateutil>=2.1 in /usr/local/lib/python3.7/dist-packages (from matplotlib->lime) (2.8.2)\n",
            "Requirement already satisfied: pyparsing!=2.0.4,!=2.1.2,!=2.1.6,>=2.0.1 in /usr/local/lib/python3.7/dist-packages (from matplotlib->lime) (3.0.7)\n",
            "Requirement already satisfied: cycler>=0.10 in /usr/local/lib/python3.7/dist-packages (from matplotlib->lime) (0.11.0)\n",
            "Requirement already satisfied: six>=1.5 in /usr/local/lib/python3.7/dist-packages (from python-dateutil>=2.1->matplotlib->lime) (1.15.0)\n",
            "Requirement already satisfied: joblib>=0.11 in /usr/local/lib/python3.7/dist-packages (from scikit-learn>=0.18->lime) (1.1.0)\n",
            "Requirement already satisfied: threadpoolctl>=2.0.0 in /usr/local/lib/python3.7/dist-packages (from scikit-learn>=0.18->lime) (3.1.0)\n"
          ]
        }
      ]
    },
    {
      "cell_type": "code",
      "source": [
        "from tensorflow.keras.layers import Dense,Input,Conv2D,MaxPool2D,Activation,Dropout,Flatten\n",
        "from tensorflow.keras.models import Model\n",
        "import random as rn\n",
        "import tensorflow as tf\n",
        "from tensorflow import keras\n",
        "from tensorflow.keras import layers\n",
        "import numpy as np\n",
        "from tensorflow.keras import Sequential\n",
        "import os\n",
        "import random as rn\n",
        "from tensorflow.python.keras.callbacks import TensorBoard\n",
        "from keras.callbacks import Callback\n",
        "from time import time\n",
        "import pandas as pd\n",
        "from sklearn.model_selection import train_test_split\n",
        "import cv2\n",
        "from PIL import Image\n",
        "from lime import lime_image \n",
        "from skimage.segmentation import mark_boundaries\n",
        "import matplotlib.pyplot as plt"
      ],
      "metadata": {
        "id": "my0g5T6_L4En"
      },
      "execution_count": null,
      "outputs": []
    },
    {
      "cell_type": "code",
      "source": [
        "from google.colab import drive\n",
        "drive.mount('/content/drive')"
      ],
      "metadata": {
        "colab": {
          "base_uri": "https://localhost:8080/"
        },
        "id": "rPNIif2N5e4C",
        "outputId": "4ac1fc44-ba72-4373-c9d9-31395f226baa"
      },
      "execution_count": null,
      "outputs": [
        {
          "output_type": "stream",
          "name": "stdout",
          "text": [
            "Drive already mounted at /content/drive; to attempt to forcibly remount, call drive.mount(\"/content/drive\", force_remount=True).\n"
          ]
        }
      ]
    },
    {
      "cell_type": "code",
      "source": [
        "%cd /content/drive/MyDrive/"
      ],
      "metadata": {
        "colab": {
          "base_uri": "https://localhost:8080/"
        },
        "id": "qethry2kBH2I",
        "outputId": "a78254bc-e13b-4e6c-a046-be7d80a7fb75"
      },
      "execution_count": null,
      "outputs": [
        {
          "output_type": "stream",
          "name": "stdout",
          "text": [
            "/content/drive/MyDrive\n"
          ]
        }
      ]
    },
    {
      "cell_type": "code",
      "source": [
        "df = pd.read_excel('ODIR-5K/ODIR-5K/data.xlsx')"
      ],
      "metadata": {
        "id": "Hcj5evR0lsXm"
      },
      "execution_count": null,
      "outputs": []
    },
    {
      "cell_type": "code",
      "source": [
        "df"
      ],
      "metadata": {
        "colab": {
          "base_uri": "https://localhost:8080/",
          "height": 520
        },
        "id": "DDh412rJmFbe",
        "outputId": "fe26c6fd-a0f4-45ad-90a1-a05b84d758d8"
      },
      "execution_count": null,
      "outputs": [
        {
          "output_type": "execute_result",
          "data": {
            "text/html": [
              "\n",
              "  <div id=\"df-3260052e-abdd-4f5b-9d64-c3ba42acd37e\">\n",
              "    <div class=\"colab-df-container\">\n",
              "      <div>\n",
              "<style scoped>\n",
              "    .dataframe tbody tr th:only-of-type {\n",
              "        vertical-align: middle;\n",
              "    }\n",
              "\n",
              "    .dataframe tbody tr th {\n",
              "        vertical-align: top;\n",
              "    }\n",
              "\n",
              "    .dataframe thead th {\n",
              "        text-align: right;\n",
              "    }\n",
              "</style>\n",
              "<table border=\"1\" class=\"dataframe\">\n",
              "  <thead>\n",
              "    <tr style=\"text-align: right;\">\n",
              "      <th></th>\n",
              "      <th>ID</th>\n",
              "      <th>Patient Age</th>\n",
              "      <th>Patient Sex</th>\n",
              "      <th>Left-Fundus</th>\n",
              "      <th>Right-Fundus</th>\n",
              "      <th>Left-Diagnostic Keywords</th>\n",
              "      <th>Right-Diagnostic Keywords</th>\n",
              "      <th>N</th>\n",
              "      <th>D</th>\n",
              "      <th>G</th>\n",
              "      <th>C</th>\n",
              "      <th>A</th>\n",
              "      <th>H</th>\n",
              "      <th>M</th>\n",
              "      <th>O</th>\n",
              "    </tr>\n",
              "  </thead>\n",
              "  <tbody>\n",
              "    <tr>\n",
              "      <th>0</th>\n",
              "      <td>0</td>\n",
              "      <td>69</td>\n",
              "      <td>Female</td>\n",
              "      <td>0_left.jpg</td>\n",
              "      <td>0_right.jpg</td>\n",
              "      <td>cataract</td>\n",
              "      <td>normal fundus</td>\n",
              "      <td>0</td>\n",
              "      <td>0</td>\n",
              "      <td>0</td>\n",
              "      <td>1</td>\n",
              "      <td>0</td>\n",
              "      <td>0</td>\n",
              "      <td>0</td>\n",
              "      <td>0</td>\n",
              "    </tr>\n",
              "    <tr>\n",
              "      <th>1</th>\n",
              "      <td>1</td>\n",
              "      <td>57</td>\n",
              "      <td>Male</td>\n",
              "      <td>1_left.jpg</td>\n",
              "      <td>1_right.jpg</td>\n",
              "      <td>normal fundus</td>\n",
              "      <td>normal fundus</td>\n",
              "      <td>1</td>\n",
              "      <td>0</td>\n",
              "      <td>0</td>\n",
              "      <td>0</td>\n",
              "      <td>0</td>\n",
              "      <td>0</td>\n",
              "      <td>0</td>\n",
              "      <td>0</td>\n",
              "    </tr>\n",
              "    <tr>\n",
              "      <th>2</th>\n",
              "      <td>2</td>\n",
              "      <td>42</td>\n",
              "      <td>Male</td>\n",
              "      <td>2_left.jpg</td>\n",
              "      <td>2_right.jpg</td>\n",
              "      <td>laser spot，moderate non proliferative retinopathy</td>\n",
              "      <td>moderate non proliferative retinopathy</td>\n",
              "      <td>0</td>\n",
              "      <td>1</td>\n",
              "      <td>0</td>\n",
              "      <td>0</td>\n",
              "      <td>0</td>\n",
              "      <td>0</td>\n",
              "      <td>0</td>\n",
              "      <td>1</td>\n",
              "    </tr>\n",
              "    <tr>\n",
              "      <th>3</th>\n",
              "      <td>3</td>\n",
              "      <td>66</td>\n",
              "      <td>Male</td>\n",
              "      <td>3_left.jpg</td>\n",
              "      <td>3_right.jpg</td>\n",
              "      <td>normal fundus</td>\n",
              "      <td>branch retinal artery occlusion</td>\n",
              "      <td>0</td>\n",
              "      <td>0</td>\n",
              "      <td>0</td>\n",
              "      <td>0</td>\n",
              "      <td>0</td>\n",
              "      <td>0</td>\n",
              "      <td>0</td>\n",
              "      <td>1</td>\n",
              "    </tr>\n",
              "    <tr>\n",
              "      <th>4</th>\n",
              "      <td>4</td>\n",
              "      <td>53</td>\n",
              "      <td>Male</td>\n",
              "      <td>4_left.jpg</td>\n",
              "      <td>4_right.jpg</td>\n",
              "      <td>macular epiretinal membrane</td>\n",
              "      <td>mild nonproliferative retinopathy</td>\n",
              "      <td>0</td>\n",
              "      <td>1</td>\n",
              "      <td>0</td>\n",
              "      <td>0</td>\n",
              "      <td>0</td>\n",
              "      <td>0</td>\n",
              "      <td>0</td>\n",
              "      <td>1</td>\n",
              "    </tr>\n",
              "    <tr>\n",
              "      <th>...</th>\n",
              "      <td>...</td>\n",
              "      <td>...</td>\n",
              "      <td>...</td>\n",
              "      <td>...</td>\n",
              "      <td>...</td>\n",
              "      <td>...</td>\n",
              "      <td>...</td>\n",
              "      <td>...</td>\n",
              "      <td>...</td>\n",
              "      <td>...</td>\n",
              "      <td>...</td>\n",
              "      <td>...</td>\n",
              "      <td>...</td>\n",
              "      <td>...</td>\n",
              "      <td>...</td>\n",
              "    </tr>\n",
              "    <tr>\n",
              "      <th>3495</th>\n",
              "      <td>4686</td>\n",
              "      <td>63</td>\n",
              "      <td>Male</td>\n",
              "      <td>4686_left.jpg</td>\n",
              "      <td>4686_right.jpg</td>\n",
              "      <td>severe nonproliferative retinopathy</td>\n",
              "      <td>proliferative diabetic retinopathy</td>\n",
              "      <td>0</td>\n",
              "      <td>1</td>\n",
              "      <td>0</td>\n",
              "      <td>0</td>\n",
              "      <td>0</td>\n",
              "      <td>0</td>\n",
              "      <td>0</td>\n",
              "      <td>0</td>\n",
              "    </tr>\n",
              "    <tr>\n",
              "      <th>3496</th>\n",
              "      <td>4688</td>\n",
              "      <td>42</td>\n",
              "      <td>Male</td>\n",
              "      <td>4688_left.jpg</td>\n",
              "      <td>4688_right.jpg</td>\n",
              "      <td>moderate non proliferative retinopathy</td>\n",
              "      <td>moderate non proliferative retinopathy</td>\n",
              "      <td>0</td>\n",
              "      <td>1</td>\n",
              "      <td>0</td>\n",
              "      <td>0</td>\n",
              "      <td>0</td>\n",
              "      <td>0</td>\n",
              "      <td>0</td>\n",
              "      <td>0</td>\n",
              "    </tr>\n",
              "    <tr>\n",
              "      <th>3497</th>\n",
              "      <td>4689</td>\n",
              "      <td>54</td>\n",
              "      <td>Male</td>\n",
              "      <td>4689_left.jpg</td>\n",
              "      <td>4689_right.jpg</td>\n",
              "      <td>mild nonproliferative retinopathy</td>\n",
              "      <td>normal fundus</td>\n",
              "      <td>0</td>\n",
              "      <td>1</td>\n",
              "      <td>0</td>\n",
              "      <td>0</td>\n",
              "      <td>0</td>\n",
              "      <td>0</td>\n",
              "      <td>0</td>\n",
              "      <td>0</td>\n",
              "    </tr>\n",
              "    <tr>\n",
              "      <th>3498</th>\n",
              "      <td>4690</td>\n",
              "      <td>57</td>\n",
              "      <td>Male</td>\n",
              "      <td>4690_left.jpg</td>\n",
              "      <td>4690_right.jpg</td>\n",
              "      <td>mild nonproliferative retinopathy</td>\n",
              "      <td>mild nonproliferative retinopathy</td>\n",
              "      <td>0</td>\n",
              "      <td>1</td>\n",
              "      <td>0</td>\n",
              "      <td>0</td>\n",
              "      <td>0</td>\n",
              "      <td>0</td>\n",
              "      <td>0</td>\n",
              "      <td>0</td>\n",
              "    </tr>\n",
              "    <tr>\n",
              "      <th>3499</th>\n",
              "      <td>4784</td>\n",
              "      <td>58</td>\n",
              "      <td>Male</td>\n",
              "      <td>4784_left.jpg</td>\n",
              "      <td>4784_right.jpg</td>\n",
              "      <td>hypertensive retinopathy，age-related macular d...</td>\n",
              "      <td>hypertensive retinopathy，age-related macular d...</td>\n",
              "      <td>0</td>\n",
              "      <td>0</td>\n",
              "      <td>0</td>\n",
              "      <td>0</td>\n",
              "      <td>1</td>\n",
              "      <td>1</td>\n",
              "      <td>0</td>\n",
              "      <td>0</td>\n",
              "    </tr>\n",
              "  </tbody>\n",
              "</table>\n",
              "<p>3500 rows × 15 columns</p>\n",
              "</div>\n",
              "      <button class=\"colab-df-convert\" onclick=\"convertToInteractive('df-3260052e-abdd-4f5b-9d64-c3ba42acd37e')\"\n",
              "              title=\"Convert this dataframe to an interactive table.\"\n",
              "              style=\"display:none;\">\n",
              "        \n",
              "  <svg xmlns=\"http://www.w3.org/2000/svg\" height=\"24px\"viewBox=\"0 0 24 24\"\n",
              "       width=\"24px\">\n",
              "    <path d=\"M0 0h24v24H0V0z\" fill=\"none\"/>\n",
              "    <path d=\"M18.56 5.44l.94 2.06.94-2.06 2.06-.94-2.06-.94-.94-2.06-.94 2.06-2.06.94zm-11 1L8.5 8.5l.94-2.06 2.06-.94-2.06-.94L8.5 2.5l-.94 2.06-2.06.94zm10 10l.94 2.06.94-2.06 2.06-.94-2.06-.94-.94-2.06-.94 2.06-2.06.94z\"/><path d=\"M17.41 7.96l-1.37-1.37c-.4-.4-.92-.59-1.43-.59-.52 0-1.04.2-1.43.59L10.3 9.45l-7.72 7.72c-.78.78-.78 2.05 0 2.83L4 21.41c.39.39.9.59 1.41.59.51 0 1.02-.2 1.41-.59l7.78-7.78 2.81-2.81c.8-.78.8-2.07 0-2.86zM5.41 20L4 18.59l7.72-7.72 1.47 1.35L5.41 20z\"/>\n",
              "  </svg>\n",
              "      </button>\n",
              "      \n",
              "  <style>\n",
              "    .colab-df-container {\n",
              "      display:flex;\n",
              "      flex-wrap:wrap;\n",
              "      gap: 12px;\n",
              "    }\n",
              "\n",
              "    .colab-df-convert {\n",
              "      background-color: #E8F0FE;\n",
              "      border: none;\n",
              "      border-radius: 50%;\n",
              "      cursor: pointer;\n",
              "      display: none;\n",
              "      fill: #1967D2;\n",
              "      height: 32px;\n",
              "      padding: 0 0 0 0;\n",
              "      width: 32px;\n",
              "    }\n",
              "\n",
              "    .colab-df-convert:hover {\n",
              "      background-color: #E2EBFA;\n",
              "      box-shadow: 0px 1px 2px rgba(60, 64, 67, 0.3), 0px 1px 3px 1px rgba(60, 64, 67, 0.15);\n",
              "      fill: #174EA6;\n",
              "    }\n",
              "\n",
              "    [theme=dark] .colab-df-convert {\n",
              "      background-color: #3B4455;\n",
              "      fill: #D2E3FC;\n",
              "    }\n",
              "\n",
              "    [theme=dark] .colab-df-convert:hover {\n",
              "      background-color: #434B5C;\n",
              "      box-shadow: 0px 1px 3px 1px rgba(0, 0, 0, 0.15);\n",
              "      filter: drop-shadow(0px 1px 2px rgba(0, 0, 0, 0.3));\n",
              "      fill: #FFFFFF;\n",
              "    }\n",
              "  </style>\n",
              "\n",
              "      <script>\n",
              "        const buttonEl =\n",
              "          document.querySelector('#df-3260052e-abdd-4f5b-9d64-c3ba42acd37e button.colab-df-convert');\n",
              "        buttonEl.style.display =\n",
              "          google.colab.kernel.accessAllowed ? 'block' : 'none';\n",
              "\n",
              "        async function convertToInteractive(key) {\n",
              "          const element = document.querySelector('#df-3260052e-abdd-4f5b-9d64-c3ba42acd37e');\n",
              "          const dataTable =\n",
              "            await google.colab.kernel.invokeFunction('convertToInteractive',\n",
              "                                                     [key], {});\n",
              "          if (!dataTable) return;\n",
              "\n",
              "          const docLinkHtml = 'Like what you see? Visit the ' +\n",
              "            '<a target=\"_blank\" href=https://colab.research.google.com/notebooks/data_table.ipynb>data table notebook</a>'\n",
              "            + ' to learn more about interactive tables.';\n",
              "          element.innerHTML = '';\n",
              "          dataTable['output_type'] = 'display_data';\n",
              "          await google.colab.output.renderOutput(dataTable, element);\n",
              "          const docLink = document.createElement('div');\n",
              "          docLink.innerHTML = docLinkHtml;\n",
              "          element.appendChild(docLink);\n",
              "        }\n",
              "      </script>\n",
              "    </div>\n",
              "  </div>\n",
              "  "
            ],
            "text/plain": [
              "        ID  Patient Age Patient Sex    Left-Fundus  ...  A  H  M  O\n",
              "0        0           69      Female     0_left.jpg  ...  0  0  0  0\n",
              "1        1           57        Male     1_left.jpg  ...  0  0  0  0\n",
              "2        2           42        Male     2_left.jpg  ...  0  0  0  1\n",
              "3        3           66        Male     3_left.jpg  ...  0  0  0  1\n",
              "4        4           53        Male     4_left.jpg  ...  0  0  0  1\n",
              "...    ...          ...         ...            ...  ... .. .. .. ..\n",
              "3495  4686           63        Male  4686_left.jpg  ...  0  0  0  0\n",
              "3496  4688           42        Male  4688_left.jpg  ...  0  0  0  0\n",
              "3497  4689           54        Male  4689_left.jpg  ...  0  0  0  0\n",
              "3498  4690           57        Male  4690_left.jpg  ...  0  0  0  0\n",
              "3499  4784           58        Male  4784_left.jpg  ...  1  1  0  0\n",
              "\n",
              "[3500 rows x 15 columns]"
            ]
          },
          "metadata": {},
          "execution_count": 6
        }
      ]
    },
    {
      "cell_type": "code",
      "source": [
        "im = os.listdir('./preprocessed_images/')"
      ],
      "metadata": {
        "id": "c7wQelmTa7ot"
      },
      "execution_count": null,
      "outputs": []
    },
    {
      "cell_type": "code",
      "source": [
        "for t in range(len(df)):\n",
        "     if df['Left-Fundus'][t] not in im:\n",
        "          df.drop([t], axis=0, inplace=True)"
      ],
      "metadata": {
        "id": "N0ugz6uUPI54"
      },
      "execution_count": null,
      "outputs": []
    },
    {
      "cell_type": "code",
      "source": [
        "len(df), len(im)"
      ],
      "metadata": {
        "colab": {
          "base_uri": "https://localhost:8080/"
        },
        "id": "K-6LKXxsQPji",
        "outputId": "813477e0-7ef8-453b-dd4d-6189d32e1511"
      },
      "execution_count": null,
      "outputs": [
        {
          "output_type": "execute_result",
          "data": {
            "text/plain": [
              "(3198, 6392)"
            ]
          },
          "metadata": {},
          "execution_count": 9
        }
      ]
    },
    {
      "cell_type": "code",
      "source": [
        "df['cataract'] = df['Left-Diagnostic Keywords'].apply(lambda x: 'cat' if 'cataract' in x else 'not_cat')"
      ],
      "metadata": {
        "id": "MOWZNE-B-NNJ"
      },
      "execution_count": null,
      "outputs": []
    },
    {
      "cell_type": "code",
      "source": [
        "df"
      ],
      "metadata": {
        "colab": {
          "base_uri": "https://localhost:8080/",
          "height": 537
        },
        "id": "B4rVVre0A13d",
        "outputId": "096e951b-3c65-4eee-cf32-08c40f2e3245"
      },
      "execution_count": null,
      "outputs": [
        {
          "output_type": "execute_result",
          "data": {
            "text/html": [
              "\n",
              "  <div id=\"df-c8136414-2685-43ee-8760-bc923db23930\">\n",
              "    <div class=\"colab-df-container\">\n",
              "      <div>\n",
              "<style scoped>\n",
              "    .dataframe tbody tr th:only-of-type {\n",
              "        vertical-align: middle;\n",
              "    }\n",
              "\n",
              "    .dataframe tbody tr th {\n",
              "        vertical-align: top;\n",
              "    }\n",
              "\n",
              "    .dataframe thead th {\n",
              "        text-align: right;\n",
              "    }\n",
              "</style>\n",
              "<table border=\"1\" class=\"dataframe\">\n",
              "  <thead>\n",
              "    <tr style=\"text-align: right;\">\n",
              "      <th></th>\n",
              "      <th>ID</th>\n",
              "      <th>Patient Age</th>\n",
              "      <th>Patient Sex</th>\n",
              "      <th>Left-Fundus</th>\n",
              "      <th>Right-Fundus</th>\n",
              "      <th>Left-Diagnostic Keywords</th>\n",
              "      <th>Right-Diagnostic Keywords</th>\n",
              "      <th>N</th>\n",
              "      <th>D</th>\n",
              "      <th>G</th>\n",
              "      <th>C</th>\n",
              "      <th>A</th>\n",
              "      <th>H</th>\n",
              "      <th>M</th>\n",
              "      <th>O</th>\n",
              "      <th>cataract</th>\n",
              "    </tr>\n",
              "  </thead>\n",
              "  <tbody>\n",
              "    <tr>\n",
              "      <th>0</th>\n",
              "      <td>0</td>\n",
              "      <td>69</td>\n",
              "      <td>Female</td>\n",
              "      <td>0_left.jpg</td>\n",
              "      <td>0_right.jpg</td>\n",
              "      <td>cataract</td>\n",
              "      <td>normal fundus</td>\n",
              "      <td>0</td>\n",
              "      <td>0</td>\n",
              "      <td>0</td>\n",
              "      <td>1</td>\n",
              "      <td>0</td>\n",
              "      <td>0</td>\n",
              "      <td>0</td>\n",
              "      <td>0</td>\n",
              "      <td>cat</td>\n",
              "    </tr>\n",
              "    <tr>\n",
              "      <th>1</th>\n",
              "      <td>1</td>\n",
              "      <td>57</td>\n",
              "      <td>Male</td>\n",
              "      <td>1_left.jpg</td>\n",
              "      <td>1_right.jpg</td>\n",
              "      <td>normal fundus</td>\n",
              "      <td>normal fundus</td>\n",
              "      <td>1</td>\n",
              "      <td>0</td>\n",
              "      <td>0</td>\n",
              "      <td>0</td>\n",
              "      <td>0</td>\n",
              "      <td>0</td>\n",
              "      <td>0</td>\n",
              "      <td>0</td>\n",
              "      <td>not_cat</td>\n",
              "    </tr>\n",
              "    <tr>\n",
              "      <th>3</th>\n",
              "      <td>3</td>\n",
              "      <td>66</td>\n",
              "      <td>Male</td>\n",
              "      <td>3_left.jpg</td>\n",
              "      <td>3_right.jpg</td>\n",
              "      <td>normal fundus</td>\n",
              "      <td>branch retinal artery occlusion</td>\n",
              "      <td>0</td>\n",
              "      <td>0</td>\n",
              "      <td>0</td>\n",
              "      <td>0</td>\n",
              "      <td>0</td>\n",
              "      <td>0</td>\n",
              "      <td>0</td>\n",
              "      <td>1</td>\n",
              "      <td>not_cat</td>\n",
              "    </tr>\n",
              "    <tr>\n",
              "      <th>4</th>\n",
              "      <td>4</td>\n",
              "      <td>53</td>\n",
              "      <td>Male</td>\n",
              "      <td>4_left.jpg</td>\n",
              "      <td>4_right.jpg</td>\n",
              "      <td>macular epiretinal membrane</td>\n",
              "      <td>mild nonproliferative retinopathy</td>\n",
              "      <td>0</td>\n",
              "      <td>1</td>\n",
              "      <td>0</td>\n",
              "      <td>0</td>\n",
              "      <td>0</td>\n",
              "      <td>0</td>\n",
              "      <td>0</td>\n",
              "      <td>1</td>\n",
              "      <td>not_cat</td>\n",
              "    </tr>\n",
              "    <tr>\n",
              "      <th>5</th>\n",
              "      <td>5</td>\n",
              "      <td>50</td>\n",
              "      <td>Female</td>\n",
              "      <td>5_left.jpg</td>\n",
              "      <td>5_right.jpg</td>\n",
              "      <td>moderate non proliferative retinopathy</td>\n",
              "      <td>moderate non proliferative retinopathy</td>\n",
              "      <td>0</td>\n",
              "      <td>1</td>\n",
              "      <td>0</td>\n",
              "      <td>0</td>\n",
              "      <td>0</td>\n",
              "      <td>0</td>\n",
              "      <td>0</td>\n",
              "      <td>0</td>\n",
              "      <td>not_cat</td>\n",
              "    </tr>\n",
              "    <tr>\n",
              "      <th>...</th>\n",
              "      <td>...</td>\n",
              "      <td>...</td>\n",
              "      <td>...</td>\n",
              "      <td>...</td>\n",
              "      <td>...</td>\n",
              "      <td>...</td>\n",
              "      <td>...</td>\n",
              "      <td>...</td>\n",
              "      <td>...</td>\n",
              "      <td>...</td>\n",
              "      <td>...</td>\n",
              "      <td>...</td>\n",
              "      <td>...</td>\n",
              "      <td>...</td>\n",
              "      <td>...</td>\n",
              "      <td>...</td>\n",
              "    </tr>\n",
              "    <tr>\n",
              "      <th>3495</th>\n",
              "      <td>4686</td>\n",
              "      <td>63</td>\n",
              "      <td>Male</td>\n",
              "      <td>4686_left.jpg</td>\n",
              "      <td>4686_right.jpg</td>\n",
              "      <td>severe nonproliferative retinopathy</td>\n",
              "      <td>proliferative diabetic retinopathy</td>\n",
              "      <td>0</td>\n",
              "      <td>1</td>\n",
              "      <td>0</td>\n",
              "      <td>0</td>\n",
              "      <td>0</td>\n",
              "      <td>0</td>\n",
              "      <td>0</td>\n",
              "      <td>0</td>\n",
              "      <td>not_cat</td>\n",
              "    </tr>\n",
              "    <tr>\n",
              "      <th>3496</th>\n",
              "      <td>4688</td>\n",
              "      <td>42</td>\n",
              "      <td>Male</td>\n",
              "      <td>4688_left.jpg</td>\n",
              "      <td>4688_right.jpg</td>\n",
              "      <td>moderate non proliferative retinopathy</td>\n",
              "      <td>moderate non proliferative retinopathy</td>\n",
              "      <td>0</td>\n",
              "      <td>1</td>\n",
              "      <td>0</td>\n",
              "      <td>0</td>\n",
              "      <td>0</td>\n",
              "      <td>0</td>\n",
              "      <td>0</td>\n",
              "      <td>0</td>\n",
              "      <td>not_cat</td>\n",
              "    </tr>\n",
              "    <tr>\n",
              "      <th>3497</th>\n",
              "      <td>4689</td>\n",
              "      <td>54</td>\n",
              "      <td>Male</td>\n",
              "      <td>4689_left.jpg</td>\n",
              "      <td>4689_right.jpg</td>\n",
              "      <td>mild nonproliferative retinopathy</td>\n",
              "      <td>normal fundus</td>\n",
              "      <td>0</td>\n",
              "      <td>1</td>\n",
              "      <td>0</td>\n",
              "      <td>0</td>\n",
              "      <td>0</td>\n",
              "      <td>0</td>\n",
              "      <td>0</td>\n",
              "      <td>0</td>\n",
              "      <td>not_cat</td>\n",
              "    </tr>\n",
              "    <tr>\n",
              "      <th>3498</th>\n",
              "      <td>4690</td>\n",
              "      <td>57</td>\n",
              "      <td>Male</td>\n",
              "      <td>4690_left.jpg</td>\n",
              "      <td>4690_right.jpg</td>\n",
              "      <td>mild nonproliferative retinopathy</td>\n",
              "      <td>mild nonproliferative retinopathy</td>\n",
              "      <td>0</td>\n",
              "      <td>1</td>\n",
              "      <td>0</td>\n",
              "      <td>0</td>\n",
              "      <td>0</td>\n",
              "      <td>0</td>\n",
              "      <td>0</td>\n",
              "      <td>0</td>\n",
              "      <td>not_cat</td>\n",
              "    </tr>\n",
              "    <tr>\n",
              "      <th>3499</th>\n",
              "      <td>4784</td>\n",
              "      <td>58</td>\n",
              "      <td>Male</td>\n",
              "      <td>4784_left.jpg</td>\n",
              "      <td>4784_right.jpg</td>\n",
              "      <td>hypertensive retinopathy，age-related macular d...</td>\n",
              "      <td>hypertensive retinopathy，age-related macular d...</td>\n",
              "      <td>0</td>\n",
              "      <td>0</td>\n",
              "      <td>0</td>\n",
              "      <td>0</td>\n",
              "      <td>1</td>\n",
              "      <td>1</td>\n",
              "      <td>0</td>\n",
              "      <td>0</td>\n",
              "      <td>not_cat</td>\n",
              "    </tr>\n",
              "  </tbody>\n",
              "</table>\n",
              "<p>3198 rows × 16 columns</p>\n",
              "</div>\n",
              "      <button class=\"colab-df-convert\" onclick=\"convertToInteractive('df-c8136414-2685-43ee-8760-bc923db23930')\"\n",
              "              title=\"Convert this dataframe to an interactive table.\"\n",
              "              style=\"display:none;\">\n",
              "        \n",
              "  <svg xmlns=\"http://www.w3.org/2000/svg\" height=\"24px\"viewBox=\"0 0 24 24\"\n",
              "       width=\"24px\">\n",
              "    <path d=\"M0 0h24v24H0V0z\" fill=\"none\"/>\n",
              "    <path d=\"M18.56 5.44l.94 2.06.94-2.06 2.06-.94-2.06-.94-.94-2.06-.94 2.06-2.06.94zm-11 1L8.5 8.5l.94-2.06 2.06-.94-2.06-.94L8.5 2.5l-.94 2.06-2.06.94zm10 10l.94 2.06.94-2.06 2.06-.94-2.06-.94-.94-2.06-.94 2.06-2.06.94z\"/><path d=\"M17.41 7.96l-1.37-1.37c-.4-.4-.92-.59-1.43-.59-.52 0-1.04.2-1.43.59L10.3 9.45l-7.72 7.72c-.78.78-.78 2.05 0 2.83L4 21.41c.39.39.9.59 1.41.59.51 0 1.02-.2 1.41-.59l7.78-7.78 2.81-2.81c.8-.78.8-2.07 0-2.86zM5.41 20L4 18.59l7.72-7.72 1.47 1.35L5.41 20z\"/>\n",
              "  </svg>\n",
              "      </button>\n",
              "      \n",
              "  <style>\n",
              "    .colab-df-container {\n",
              "      display:flex;\n",
              "      flex-wrap:wrap;\n",
              "      gap: 12px;\n",
              "    }\n",
              "\n",
              "    .colab-df-convert {\n",
              "      background-color: #E8F0FE;\n",
              "      border: none;\n",
              "      border-radius: 50%;\n",
              "      cursor: pointer;\n",
              "      display: none;\n",
              "      fill: #1967D2;\n",
              "      height: 32px;\n",
              "      padding: 0 0 0 0;\n",
              "      width: 32px;\n",
              "    }\n",
              "\n",
              "    .colab-df-convert:hover {\n",
              "      background-color: #E2EBFA;\n",
              "      box-shadow: 0px 1px 2px rgba(60, 64, 67, 0.3), 0px 1px 3px 1px rgba(60, 64, 67, 0.15);\n",
              "      fill: #174EA6;\n",
              "    }\n",
              "\n",
              "    [theme=dark] .colab-df-convert {\n",
              "      background-color: #3B4455;\n",
              "      fill: #D2E3FC;\n",
              "    }\n",
              "\n",
              "    [theme=dark] .colab-df-convert:hover {\n",
              "      background-color: #434B5C;\n",
              "      box-shadow: 0px 1px 3px 1px rgba(0, 0, 0, 0.15);\n",
              "      filter: drop-shadow(0px 1px 2px rgba(0, 0, 0, 0.3));\n",
              "      fill: #FFFFFF;\n",
              "    }\n",
              "  </style>\n",
              "\n",
              "      <script>\n",
              "        const buttonEl =\n",
              "          document.querySelector('#df-c8136414-2685-43ee-8760-bc923db23930 button.colab-df-convert');\n",
              "        buttonEl.style.display =\n",
              "          google.colab.kernel.accessAllowed ? 'block' : 'none';\n",
              "\n",
              "        async function convertToInteractive(key) {\n",
              "          const element = document.querySelector('#df-c8136414-2685-43ee-8760-bc923db23930');\n",
              "          const dataTable =\n",
              "            await google.colab.kernel.invokeFunction('convertToInteractive',\n",
              "                                                     [key], {});\n",
              "          if (!dataTable) return;\n",
              "\n",
              "          const docLinkHtml = 'Like what you see? Visit the ' +\n",
              "            '<a target=\"_blank\" href=https://colab.research.google.com/notebooks/data_table.ipynb>data table notebook</a>'\n",
              "            + ' to learn more about interactive tables.';\n",
              "          element.innerHTML = '';\n",
              "          dataTable['output_type'] = 'display_data';\n",
              "          await google.colab.output.renderOutput(dataTable, element);\n",
              "          const docLink = document.createElement('div');\n",
              "          docLink.innerHTML = docLinkHtml;\n",
              "          element.appendChild(docLink);\n",
              "        }\n",
              "      </script>\n",
              "    </div>\n",
              "  </div>\n",
              "  "
            ],
            "text/plain": [
              "        ID  Patient Age Patient Sex    Left-Fundus  ...  H  M  O  cataract\n",
              "0        0           69      Female     0_left.jpg  ...  0  0  0       cat\n",
              "1        1           57        Male     1_left.jpg  ...  0  0  0   not_cat\n",
              "3        3           66        Male     3_left.jpg  ...  0  0  1   not_cat\n",
              "4        4           53        Male     4_left.jpg  ...  0  0  1   not_cat\n",
              "5        5           50      Female     5_left.jpg  ...  0  0  0   not_cat\n",
              "...    ...          ...         ...            ...  ... .. .. ..       ...\n",
              "3495  4686           63        Male  4686_left.jpg  ...  0  0  0   not_cat\n",
              "3496  4688           42        Male  4688_left.jpg  ...  0  0  0   not_cat\n",
              "3497  4689           54        Male  4689_left.jpg  ...  0  0  0   not_cat\n",
              "3498  4690           57        Male  4690_left.jpg  ...  0  0  0   not_cat\n",
              "3499  4784           58        Male  4784_left.jpg  ...  1  0  0   not_cat\n",
              "\n",
              "[3198 rows x 16 columns]"
            ]
          },
          "metadata": {},
          "execution_count": 11
        }
      ]
    },
    {
      "cell_type": "code",
      "source": [
        "train, test = train_test_split(df, test_size=0.2)"
      ],
      "metadata": {
        "id": "KA6e3nv1t6nJ"
      },
      "execution_count": null,
      "outputs": []
    },
    {
      "cell_type": "code",
      "source": [
        "train_datagen = tf.keras.preprocessing.image.ImageDataGenerator()"
      ],
      "metadata": {
        "id": "mhb33fk7WvH0"
      },
      "execution_count": null,
      "outputs": []
    },
    {
      "cell_type": "code",
      "source": [
        "train_left= train_datagen.flow_from_dataframe(\n",
        "dataframe=train,\n",
        "directory='./preprocessed_images/',\n",
        "x_col='Left-Fundus',\n",
        "class_mode='categorical',\n",
        "y_col='cataract',\n",
        "batch_size=16,\n",
        "shuffle=True,\n",
        "target_size=(224, 224))"
      ],
      "metadata": {
        "colab": {
          "base_uri": "https://localhost:8080/"
        },
        "id": "zHhb8Z4DwVUq",
        "outputId": "f82d33fa-a9fb-4c38-d9cf-fa9d6b975f8c"
      },
      "execution_count": null,
      "outputs": [
        {
          "output_type": "stream",
          "name": "stdout",
          "text": [
            "Found 2558 validated image filenames belonging to 2 classes.\n"
          ]
        }
      ]
    },
    {
      "cell_type": "code",
      "source": [
        "test_left= train_datagen.flow_from_dataframe(\n",
        "dataframe=test,\n",
        "directory='./preprocessed_images/',\n",
        "x_col='Left-Fundus',\n",
        "class_mode='categorical',\n",
        "y_col='cataract',\n",
        "batch_size=16,\n",
        "shuffle=True,\n",
        "target_size=(224, 224))"
      ],
      "metadata": {
        "colab": {
          "base_uri": "https://localhost:8080/"
        },
        "id": "YrBnm61PyHaf",
        "outputId": "32dd6387-2602-4bb9-867e-a182482e24f9"
      },
      "execution_count": null,
      "outputs": [
        {
          "output_type": "stream",
          "name": "stdout",
          "text": [
            "Found 640 validated image filenames belonging to 2 classes.\n"
          ]
        }
      ]
    },
    {
      "cell_type": "markdown",
      "source": [
        "#Modeling with VGG"
      ],
      "metadata": {
        "id": "ctAYL51Z5Jud"
      }
    },
    {
      "cell_type": "code",
      "source": [
        "METRICS = [\n",
        "      tf.keras.metrics.Precision(name='Precision'),\n",
        "      tf.keras.metrics.Recall(name='Recall')\n",
        "]"
      ],
      "metadata": {
        "id": "iNlPPZL63YmK"
      },
      "execution_count": null,
      "outputs": []
    },
    {
      "cell_type": "code",
      "source": [
        "os.environ['PYTHONHASHSEED'] = '0'\n",
        "\n",
        "tf.keras.backend.clear_session()\n",
        "\n",
        "np.random.seed(0)\n",
        "\n",
        "model = Sequential()\n",
        "inp = Input(shape=(224,224,3),name='Input_Layer')\n",
        "model.add(inp)\n",
        "vgg = tf.keras.applications.vgg16.VGG16(include_top=False, weights='imagenet')\n",
        "vgg.trainable = False\n",
        "\n",
        "model.add(vgg)\n",
        "\n",
        "Con = Conv2D(filters=128,kernel_size=(3,3),strides=(1,1),padding='valid',data_format='channels_last',\n",
        "              activation='relu',kernel_initializer=tf.keras.initializers.he_normal(seed=0),name='Conv1')\n",
        "model.add(Con)\n",
        "\n",
        "Pool = MaxPool2D(pool_size=(2,2),strides=(2,2),padding='valid',data_format='channels_last',name='Pool1')\n",
        "model.add(Pool)\n",
        "\n",
        "flat = Flatten(data_format='channels_last',name='Flatten')\n",
        "model.add(flat)\n",
        "\n",
        "FC1 = Dense(units=112,activation='relu',kernel_initializer=tf.keras.initializers.glorot_normal(seed=32),name='FC1')\n",
        "model.add(FC1)\n",
        "\n",
        "FC2 = Dense(units=64,activation='relu',kernel_initializer=tf.keras.initializers.glorot_normal(seed=33),name='FC2')\n",
        "model.add(FC2)\n",
        "\n",
        "Out = Dense(units=2,activation='softmax',kernel_initializer=tf.keras.initializers.glorot_normal(seed=3),name='Output')\n",
        "model.add(Out)\n",
        "\n",
        "model.compile(optimizer=tf.keras.optimizers.Adam(learning_rate=0.01),loss='binary_crossentropy',metrics=METRICS)"
      ],
      "metadata": {
        "id": "V3DDjxCOE1tR"
      },
      "execution_count": null,
      "outputs": []
    },
    {
      "cell_type": "code",
      "source": [
        "model.summary()"
      ],
      "metadata": {
        "colab": {
          "base_uri": "https://localhost:8080/"
        },
        "outputId": "a0b516e9-a44f-41a6-92f5-02d4328f4779",
        "id": "ev2zooOPE1tT"
      },
      "execution_count": null,
      "outputs": [
        {
          "output_type": "stream",
          "name": "stdout",
          "text": [
            "Model: \"sequential\"\n",
            "_________________________________________________________________\n",
            " Layer (type)                Output Shape              Param #   \n",
            "=================================================================\n",
            " vgg16 (Functional)          (None, None, None, 512)   14714688  \n",
            "                                                                 \n",
            " Conv1 (Conv2D)              (None, 5, 5, 128)         589952    \n",
            "                                                                 \n",
            " Pool1 (MaxPooling2D)        (None, 2, 2, 128)         0         \n",
            "                                                                 \n",
            " Flatten (Flatten)           (None, 512)               0         \n",
            "                                                                 \n",
            " FC1 (Dense)                 (None, 112)               57456     \n",
            "                                                                 \n",
            " FC2 (Dense)                 (None, 64)                7232      \n",
            "                                                                 \n",
            " Output (Dense)              (None, 2)                 130       \n",
            "                                                                 \n",
            "=================================================================\n",
            "Total params: 15,369,458\n",
            "Trainable params: 654,770\n",
            "Non-trainable params: 14,714,688\n",
            "_________________________________________________________________\n"
          ]
        }
      ]
    },
    {
      "cell_type": "code",
      "source": [
        "model.fit(train_left,epochs=10, validation_data=test_left)"
      ],
      "metadata": {
        "colab": {
          "base_uri": "https://localhost:8080/"
        },
        "id": "GXi8TBU_5nUX",
        "outputId": "9dfb4370-16cc-4f6c-fcd7-51c969cb04b4"
      },
      "execution_count": null,
      "outputs": [
        {
          "output_type": "stream",
          "name": "stdout",
          "text": [
            "Epoch 1/10\n",
            "160/160 [==============================] - 91s 554ms/step - loss: 1.2624 - Precision: 0.9586 - Recall: 0.9586 - val_loss: 0.4026 - val_Precision: 0.9500 - val_Recall: 0.9500\n",
            "Epoch 2/10\n",
            "160/160 [==============================] - 21s 131ms/step - loss: 0.2230 - Precision: 0.9695 - Recall: 0.9695 - val_loss: 0.6040 - val_Precision: 0.9422 - val_Recall: 0.9422\n",
            "Epoch 3/10\n",
            "160/160 [==============================] - 21s 131ms/step - loss: 0.1916 - Precision: 0.9773 - Recall: 0.9773 - val_loss: 0.1794 - val_Precision: 0.9578 - val_Recall: 0.9578\n",
            "Epoch 4/10\n",
            "160/160 [==============================] - 21s 130ms/step - loss: 0.0888 - Precision: 0.9808 - Recall: 0.9808 - val_loss: 0.1251 - val_Precision: 0.9703 - val_Recall: 0.9703\n",
            "Epoch 5/10\n",
            "160/160 [==============================] - 21s 130ms/step - loss: 0.0626 - Precision: 0.9848 - Recall: 0.9848 - val_loss: 0.1380 - val_Precision: 0.9672 - val_Recall: 0.9672\n",
            "Epoch 6/10\n",
            "160/160 [==============================] - 21s 130ms/step - loss: 0.0488 - Precision: 0.9855 - Recall: 0.9855 - val_loss: 0.1040 - val_Precision: 0.9703 - val_Recall: 0.9703\n",
            "Epoch 7/10\n",
            "160/160 [==============================] - 21s 130ms/step - loss: 0.0324 - Precision: 0.9879 - Recall: 0.9879 - val_loss: 0.1137 - val_Precision: 0.9719 - val_Recall: 0.9719\n",
            "Epoch 8/10\n",
            "160/160 [==============================] - 21s 130ms/step - loss: 0.0362 - Precision: 0.9894 - Recall: 0.9894 - val_loss: 0.0870 - val_Precision: 0.9766 - val_Recall: 0.9766\n",
            "Epoch 9/10\n",
            "160/160 [==============================] - 21s 130ms/step - loss: 0.0325 - Precision: 0.9891 - Recall: 0.9891 - val_loss: 0.1321 - val_Precision: 0.9719 - val_Recall: 0.9719\n",
            "Epoch 10/10\n",
            "160/160 [==============================] - 21s 130ms/step - loss: 0.0540 - Precision: 0.9828 - Recall: 0.9828 - val_loss: 0.1009 - val_Precision: 0.9703 - val_Recall: 0.9703\n"
          ]
        },
        {
          "output_type": "execute_result",
          "data": {
            "text/plain": [
              "<keras.callbacks.History at 0x7f9520323150>"
            ]
          },
          "metadata": {},
          "execution_count": 19
        }
      ]
    },
    {
      "cell_type": "code",
      "source": [
        "prediction = model.predict(test_left)"
      ],
      "metadata": {
        "id": "7zW-GdB7LIn5"
      },
      "execution_count": null,
      "outputs": []
    },
    {
      "cell_type": "code",
      "source": [
        "prediction"
      ],
      "metadata": {
        "colab": {
          "base_uri": "https://localhost:8080/"
        },
        "outputId": "744e41a7-f31b-414b-a908-e3fd4951744c",
        "id": "T7jbhqaULIn6"
      },
      "execution_count": null,
      "outputs": [
        {
          "output_type": "execute_result",
          "data": {
            "text/plain": [
              "array([[5.6411466e-11, 1.0000000e+00],\n",
              "       [1.2746359e-15, 1.0000000e+00],\n",
              "       [8.3816318e-20, 1.0000000e+00],\n",
              "       ...,\n",
              "       [1.0031033e-03, 9.9899691e-01],\n",
              "       [6.4651000e-01, 3.5349005e-01],\n",
              "       [6.6950015e-08, 9.9999988e-01]], dtype=float32)"
            ]
          },
          "metadata": {},
          "execution_count": 21
        }
      ]
    },
    {
      "cell_type": "code",
      "source": [
        "classes = np.argmax(prediction, axis=-1)\n",
        "classes"
      ],
      "metadata": {
        "colab": {
          "base_uri": "https://localhost:8080/"
        },
        "outputId": "c9176b71-4d4f-4650-b616-8218457ec614",
        "id": "02-WPcBELIn6"
      },
      "execution_count": null,
      "outputs": [
        {
          "output_type": "execute_result",
          "data": {
            "text/plain": [
              "array([1, 1, 1, 1, 1, 1, 1, 1, 1, 1, 1, 0, 1, 1, 1, 1, 1, 1, 1, 1, 1, 1,\n",
              "       1, 1, 1, 0, 1, 1, 1, 1, 1, 1, 1, 0, 1, 1, 1, 1, 1, 1, 1, 1, 0, 1,\n",
              "       1, 1, 1, 1, 1, 1, 1, 1, 1, 1, 1, 1, 1, 1, 1, 1, 1, 1, 1, 1, 1, 1,\n",
              "       1, 1, 1, 1, 1, 1, 1, 1, 1, 1, 1, 1, 1, 1, 1, 1, 1, 1, 1, 1, 1, 1,\n",
              "       1, 1, 1, 1, 1, 1, 1, 1, 1, 1, 1, 1, 1, 1, 1, 1, 1, 1, 1, 1, 1, 1,\n",
              "       1, 1, 1, 1, 1, 1, 1, 1, 1, 1, 1, 1, 1, 1, 1, 1, 1, 1, 1, 1, 1, 1,\n",
              "       1, 1, 0, 1, 1, 1, 1, 1, 1, 1, 1, 1, 1, 1, 1, 1, 1, 1, 1, 1, 1, 1,\n",
              "       1, 1, 1, 1, 1, 1, 1, 1, 1, 1, 1, 1, 1, 1, 1, 1, 1, 1, 1, 1, 1, 1,\n",
              "       1, 1, 1, 1, 1, 1, 0, 1, 1, 1, 1, 1, 1, 1, 1, 1, 1, 0, 1, 1, 1, 1,\n",
              "       1, 1, 1, 1, 1, 1, 1, 1, 1, 1, 1, 1, 1, 1, 1, 1, 0, 1, 1, 1, 1, 1,\n",
              "       1, 1, 1, 1, 1, 1, 1, 1, 1, 1, 1, 1, 1, 1, 1, 1, 1, 1, 1, 0, 1, 1,\n",
              "       1, 1, 1, 1, 0, 1, 1, 1, 1, 1, 1, 1, 1, 1, 1, 1, 1, 1, 1, 1, 1, 1,\n",
              "       1, 1, 1, 1, 1, 1, 1, 1, 1, 1, 1, 1, 1, 1, 1, 1, 1, 1, 1, 1, 1, 1,\n",
              "       1, 1, 1, 1, 1, 1, 1, 1, 1, 1, 1, 1, 1, 1, 1, 1, 1, 1, 1, 1, 1, 1,\n",
              "       0, 1, 1, 1, 1, 1, 1, 1, 1, 0, 1, 0, 1, 1, 1, 1, 1, 1, 0, 1, 1, 1,\n",
              "       1, 1, 1, 1, 1, 1, 1, 1, 1, 1, 1, 1, 1, 1, 1, 1, 1, 1, 1, 1, 0, 1,\n",
              "       1, 1, 1, 1, 1, 1, 1, 1, 1, 1, 1, 1, 1, 1, 1, 1, 0, 1, 1, 1, 1, 1,\n",
              "       1, 1, 1, 0, 1, 1, 0, 1, 1, 1, 1, 1, 1, 1, 1, 1, 1, 1, 1, 1, 1, 1,\n",
              "       1, 1, 1, 1, 1, 1, 1, 1, 1, 1, 1, 1, 1, 1, 1, 1, 1, 1, 1, 1, 1, 1,\n",
              "       1, 1, 1, 1, 1, 0, 1, 1, 1, 1, 1, 1, 1, 1, 1, 1, 1, 1, 1, 1, 1, 1,\n",
              "       1, 1, 1, 1, 1, 1, 1, 1, 0, 1, 1, 1, 1, 1, 1, 1, 1, 1, 1, 1, 1, 1,\n",
              "       1, 1, 1, 1, 0, 1, 1, 1, 1, 1, 1, 1, 0, 1, 1, 1, 1, 1, 1, 1, 1, 1,\n",
              "       1, 1, 1, 1, 1, 1, 1, 1, 1, 1, 1, 1, 1, 1, 1, 1, 1, 1, 1, 1, 0, 1,\n",
              "       1, 1, 1, 1, 1, 1, 1, 0, 1, 1, 1, 1, 1, 1, 1, 1, 1, 1, 1, 1, 1, 1,\n",
              "       1, 1, 1, 1, 1, 1, 1, 1, 1, 1, 1, 1, 1, 1, 1, 1, 1, 1, 1, 1, 1, 1,\n",
              "       1, 1, 1, 1, 1, 1, 1, 1, 1, 1, 1, 1, 1, 1, 1, 1, 0, 1, 1, 1, 1, 1,\n",
              "       1, 1, 1, 1, 1, 1, 1, 1, 1, 1, 1, 1, 1, 1, 1, 1, 1, 1, 1, 1, 1, 1,\n",
              "       1, 1, 1, 1, 1, 1, 1, 1, 1, 1, 1, 1, 1, 1, 1, 1, 1, 1, 1, 1, 1, 1,\n",
              "       1, 1, 1, 1, 1, 1, 1, 1, 1, 0, 1, 1, 1, 1, 1, 1, 0, 1, 0, 1, 1, 1,\n",
              "       0, 1])"
            ]
          },
          "metadata": {},
          "execution_count": 22
        }
      ]
    },
    {
      "cell_type": "code",
      "source": [
        "from sklearn.metrics import f1_score, confusion_matrix\n",
        "\n",
        "f1_score(test_left.classes,classes, average=None)"
      ],
      "metadata": {
        "colab": {
          "base_uri": "https://localhost:8080/"
        },
        "outputId": "50ed2011-3509-4186-da0a-1b3a4f410af8",
        "id": "lwCQ4OL8LIn8"
      },
      "execution_count": null,
      "outputs": [
        {
          "output_type": "execute_result",
          "data": {
            "text/plain": [
              "array([0.10169492, 0.95659296])"
            ]
          },
          "metadata": {},
          "execution_count": 23
        }
      ]
    },
    {
      "cell_type": "code",
      "source": [
        "confusion_matrix(test_left.classes,classes)"
      ],
      "metadata": {
        "colab": {
          "base_uri": "https://localhost:8080/"
        },
        "outputId": "416bedb7-0f63-4242-9088-71ef2a8a8031",
        "id": "s7StsN5-LIn9"
      },
      "execution_count": null,
      "outputs": [
        {
          "output_type": "execute_result",
          "data": {
            "text/plain": [
              "array([[  3,  27],\n",
              "       [ 26, 584]])"
            ]
          },
          "metadata": {},
          "execution_count": 24
        }
      ]
    },
    {
      "cell_type": "code",
      "source": [
        "prediction = model.predict(train_left)"
      ],
      "metadata": {
        "id": "5LSeZB4ULIn-"
      },
      "execution_count": null,
      "outputs": []
    },
    {
      "cell_type": "code",
      "source": [
        "prediction"
      ],
      "metadata": {
        "colab": {
          "base_uri": "https://localhost:8080/"
        },
        "outputId": "4263d446-ee3a-4612-cb8e-ed89b856f7f6",
        "id": "KoFbkSt9LIoA"
      },
      "execution_count": null,
      "outputs": [
        {
          "output_type": "execute_result",
          "data": {
            "text/plain": [
              "array([[1.1820471e-15, 1.0000000e+00],\n",
              "       [1.6966275e-08, 1.0000000e+00],\n",
              "       [3.0903244e-09, 1.0000000e+00],\n",
              "       ...,\n",
              "       [2.5143826e-23, 1.0000000e+00],\n",
              "       [5.3792098e-04, 9.9946207e-01],\n",
              "       [1.1895508e-16, 1.0000000e+00]], dtype=float32)"
            ]
          },
          "metadata": {},
          "execution_count": 26
        }
      ]
    },
    {
      "cell_type": "code",
      "source": [
        "classes = np.argmax(prediction, axis=-1)\n",
        "classes"
      ],
      "metadata": {
        "colab": {
          "base_uri": "https://localhost:8080/"
        },
        "outputId": "8f2986e2-4678-4583-8b6e-a41193bc21d2",
        "id": "5Qu0Pa3ALIoB"
      },
      "execution_count": null,
      "outputs": [
        {
          "output_type": "execute_result",
          "data": {
            "text/plain": [
              "array([1, 1, 1, ..., 1, 1, 1])"
            ]
          },
          "metadata": {},
          "execution_count": 27
        }
      ]
    },
    {
      "cell_type": "code",
      "source": [
        "from sklearn.metrics import f1_score, confusion_matrix\n",
        "\n",
        "f1_score(train_left.classes,classes, average=None)"
      ],
      "metadata": {
        "colab": {
          "base_uri": "https://localhost:8080/"
        },
        "outputId": "55e64425-fffa-44ee-83e7-7776cfd96a3d",
        "id": "QZWVh3WmLIoC"
      },
      "execution_count": null,
      "outputs": [
        {
          "output_type": "execute_result",
          "data": {
            "text/plain": [
              "array([0.03603604, 0.95627299])"
            ]
          },
          "metadata": {},
          "execution_count": 28
        }
      ]
    },
    {
      "cell_type": "code",
      "source": [
        "confusion_matrix(train_left.classes,classes)"
      ],
      "metadata": {
        "colab": {
          "base_uri": "https://localhost:8080/"
        },
        "outputId": "73ab355c-a2f0-427e-8bfd-ff0998c54579",
        "id": "z3QExIOYLIoE"
      },
      "execution_count": null,
      "outputs": [
        {
          "output_type": "execute_result",
          "data": {
            "text/plain": [
              "array([[   4,  119],\n",
              "       [  95, 2340]])"
            ]
          },
          "metadata": {},
          "execution_count": 29
        }
      ]
    },
    {
      "cell_type": "code",
      "source": [
        "url = './preprocessed_images/0_left.jpg'"
      ],
      "metadata": {
        "id": "FixNRR3QA0dR"
      },
      "execution_count": null,
      "outputs": []
    },
    {
      "cell_type": "code",
      "source": [
        "def read_and_transform_img(url):\n",
        "\n",
        "    img = keras.preprocessing.image.load_img(\n",
        "    url, target_size=(224,224))\n",
        "    img_array = keras.preprocessing.image.img_to_array(img)\n",
        "    #img_array = tf.expand_dims(img_array, 0)\n",
        "\n",
        "    return img_array\n",
        "\n",
        "images = read_and_transform_img(url)"
      ],
      "metadata": {
        "id": "8sJCeBB8AyDd"
      },
      "execution_count": null,
      "outputs": []
    },
    {
      "cell_type": "code",
      "source": [
        "images.shape"
      ],
      "metadata": {
        "colab": {
          "base_uri": "https://localhost:8080/"
        },
        "id": "AOPbBabUDzuQ",
        "outputId": "86d143ca-948a-44f0-f71c-34c0a65415a9"
      },
      "execution_count": null,
      "outputs": [
        {
          "output_type": "execute_result",
          "data": {
            "text/plain": [
              "(224, 224, 3)"
            ]
          },
          "metadata": {},
          "execution_count": 32
        }
      ]
    },
    {
      "cell_type": "code",
      "source": [
        "explainer = lime_image.LimeImageExplainer()\n",
        "\n",
        "explanation = explainer.explain_instance(images.astype('double'), model.predict,  \n",
        "                                         top_labels=10, hide_color=0, num_samples=1000)"
      ],
      "metadata": {
        "colab": {
          "base_uri": "https://localhost:8080/",
          "height": 49,
          "referenced_widgets": [
            "9939808e012a42a88586ba5667f2501c",
            "f59248054e2540e3b4f72991159232bb",
            "11ab576688f04a23a95611e2df42b53b",
            "cdb5003275d64d2499742c6199810452",
            "2ec6d4075d494b959637f13148e8fbf6",
            "b2a4bde10b4e4e1b9459ab8cf1e53009",
            "a0315f6c788f44da9860aac60f12725c",
            "ff469c419fa844cc89da30576dd87fd8",
            "521bdae8ecd44a7f86c1dc3696240f23",
            "ae6657ef51af419e9e90c591757c6f74",
            "dc5ebbc030b444399135761fd46d9a44"
          ]
        },
        "id": "LZLTj5Ni-HDr",
        "outputId": "3180946e-23d6-4a2a-80d7-1b71255380ba"
      },
      "execution_count": null,
      "outputs": [
        {
          "output_type": "display_data",
          "data": {
            "application/vnd.jupyter.widget-view+json": {
              "model_id": "9939808e012a42a88586ba5667f2501c",
              "version_minor": 0,
              "version_major": 2
            },
            "text/plain": [
              "  0%|          | 0/1000 [00:00<?, ?it/s]"
            ]
          },
          "metadata": {}
        }
      ]
    },
    {
      "cell_type": "code",
      "source": [
        "temp_1, mask_1 = explanation.get_image_and_mask(explanation.top_labels[0], positive_only=True, num_features=10, hide_rest=True)\n",
        "temp_2, mask_2 = explanation.get_image_and_mask(explanation.top_labels[0], positive_only=False, num_features=50, hide_rest=False)\n",
        "\n",
        "fig, (ax1, ax2) = plt.subplots(1, 2, figsize=(15,15))\n",
        "ax1.imshow(mark_boundaries(temp_1, mask_1))\n",
        "ax2.imshow(mark_boundaries(temp_2, mask_2))\n",
        "ax1.axis('off')\n",
        "ax2.axis('off')"
      ],
      "metadata": {
        "colab": {
          "base_uri": "https://localhost:8080/",
          "height": 463
        },
        "id": "UZ7xTKPf_SiZ",
        "outputId": "d9d8c980-7df6-4beb-90a1-090c09dec734"
      },
      "execution_count": null,
      "outputs": [
        {
          "output_type": "stream",
          "name": "stderr",
          "text": [
            "Clipping input data to the valid range for imshow with RGB data ([0..1] for floats or [0..255] for integers).\n",
            "Clipping input data to the valid range for imshow with RGB data ([0..1] for floats or [0..255] for integers).\n"
          ]
        },
        {
          "output_type": "execute_result",
          "data": {
            "text/plain": [
              "(-0.5, 223.5, 223.5, -0.5)"
            ]
          },
          "metadata": {},
          "execution_count": 34
        },
        {
          "output_type": "display_data",
          "data": {
            "image/png": "[encoded data removed]",
            "text/plain": [
              "<Figure size 1080x1080 with 2 Axes>"
            ]
          },
          "metadata": {
            "needs_background": "light"
          }
        }
      ]
    },
    {
      "cell_type": "markdown",
      "source": [
        "#Modeling with EfficientNETV2"
      ],
      "metadata": {
        "id": "whQWy6tP8xy3"
      }
    },
    {
      "cell_type": "code",
      "source": [
        "data_augmentation = keras.Sequential(\n",
        "    [\n",
        "        layers.RandomFlip(\"horizontal\"),\n",
        "        layers.RandomRotation(0.1),\n",
        "    ]\n",
        ")"
      ],
      "metadata": {
        "id": "Fln00ayBCVPp"
      },
      "execution_count": null,
      "outputs": []
    },
    {
      "cell_type": "code",
      "source": [
        "os.environ['PYTHONHASHSEED'] = '0'\n",
        "\n",
        "tf.keras.backend.clear_session()\n",
        "\n",
        "np.random.seed(0)\n",
        "\n",
        "model = Sequential()\n",
        "inp = Input(shape=(224,224,3),name='Input_Layer')\n",
        "model.add(inp)\n",
        "model.add(data_augmentation)\n",
        "\n",
        "eff = tf.keras.applications.efficientnet_v2.EfficientNetV2L(include_top=False, weights='imagenet')\n",
        "eff.trainable = False\n",
        "model.add(eff)\n",
        "model.add(layers.BatchNormalization())\n",
        "Con = Conv2D(filters=128,kernel_size=(3,3),strides=(1,1),padding='valid',data_format='channels_last',\n",
        "              activation='relu',kernel_initializer=tf.keras.initializers.he_normal(seed=0),name='Conv1')\n",
        "model.add(Con)\n",
        "model.add(layers.BatchNormalization())\n",
        "\n",
        "flat = Flatten(data_format='channels_last',name='Flatten')\n",
        "model.add(flat)\n",
        "\n",
        "FC1 = Dense(units=112,activation='relu',kernel_initializer=tf.keras.initializers.glorot_normal(seed=32),name='FC1')\n",
        "model.add(FC1)\n",
        "model.add(layers.BatchNormalization())\n",
        "FC2 = Dense(units=64,activation='relu',kernel_initializer=tf.keras.initializers.glorot_normal(seed=33),name='FC2')\n",
        "model.add(FC2)\n",
        "\n",
        "Out = Dense(units=2,activation='softmax',kernel_initializer=tf.keras.initializers.glorot_normal(seed=3),name='Output')\n",
        "model.add(Out)\n",
        "\n",
        "model.compile(optimizer=tf.keras.optimizers.Adam(learning_rate=0.01),loss='binary_crossentropy',metrics=METRICS)\n",
        "model.summary()"
      ],
      "metadata": {
        "colab": {
          "base_uri": "https://localhost:8080/"
        },
        "id": "GvXJI61JCAcc",
        "outputId": "99c6e0be-386b-47ba-db95-da7857677556"
      },
      "execution_count": null,
      "outputs": [
        {
          "output_type": "stream",
          "name": "stdout",
          "text": [
            "Model: \"sequential\"\n",
            "_________________________________________________________________\n",
            " Layer (type)                Output Shape              Param #   \n",
            "=================================================================\n",
            " sequential_1 (Sequential)   (None, 224, 224, 3)       0         \n",
            "                                                                 \n",
            " efficientnetv2-l (Functiona  (None, None, None, 1280)  117746848\n",
            " l)                                                              \n",
            "                                                                 \n",
            " batch_normalization (BatchN  (None, 7, 7, 1280)       5120      \n",
            " ormalization)                                                   \n",
            "                                                                 \n",
            " Conv1 (Conv2D)              (None, 5, 5, 128)         1474688   \n",
            "                                                                 \n",
            " batch_normalization_1 (Batc  (None, 5, 5, 128)        512       \n",
            " hNormalization)                                                 \n",
            "                                                                 \n",
            " Flatten (Flatten)           (None, 3200)              0         \n",
            "                                                                 \n",
            " FC1 (Dense)                 (None, 112)               358512    \n",
            "                                                                 \n",
            " batch_normalization_2 (Batc  (None, 112)              448       \n",
            " hNormalization)                                                 \n",
            "                                                                 \n",
            " FC2 (Dense)                 (None, 64)                7232      \n",
            "                                                                 \n",
            " Output (Dense)              (None, 2)                 130       \n",
            "                                                                 \n",
            "=================================================================\n",
            "Total params: 119,593,490\n",
            "Trainable params: 1,843,602\n",
            "Non-trainable params: 117,749,888\n",
            "_________________________________________________________________\n"
          ]
        }
      ]
    },
    {
      "cell_type": "code",
      "source": [
        "model.fit(train_left,epochs=50, validation_data=test_left)"
      ],
      "metadata": {
        "colab": {
          "base_uri": "https://localhost:8080/"
        },
        "outputId": "a079c004-4b75-46f2-e36c-e564eb54e544",
        "id": "kQXi0Te7CAcd"
      },
      "execution_count": null,
      "outputs": [
        {
          "output_type": "stream",
          "name": "stdout",
          "text": [
            "Epoch 1/50\n",
            "160/160 [==============================] - 64s 225ms/step - loss: 0.1499 - Precision: 0.9537 - Recall: 0.9537 - val_loss: 0.0806 - val_Precision: 0.9750 - val_Recall: 0.9750\n",
            "Epoch 2/50\n",
            "160/160 [==============================] - 28s 177ms/step - loss: 0.1033 - Precision: 0.9687 - Recall: 0.9687 - val_loss: 0.1400 - val_Precision: 0.9406 - val_Recall: 0.9406\n",
            "Epoch 3/50\n",
            "160/160 [==============================] - 28s 177ms/step - loss: 0.0807 - Precision: 0.9758 - Recall: 0.9758 - val_loss: 0.1415 - val_Precision: 0.9547 - val_Recall: 0.9547\n",
            "Epoch 4/50\n",
            "160/160 [==============================] - 28s 177ms/step - loss: 0.0779 - Precision: 0.9719 - Recall: 0.9719 - val_loss: 0.1596 - val_Precision: 0.9469 - val_Recall: 0.9469\n",
            "Epoch 5/50\n",
            "160/160 [==============================] - 28s 177ms/step - loss: 0.0815 - Precision: 0.9730 - Recall: 0.9730 - val_loss: 0.0835 - val_Precision: 0.9641 - val_Recall: 0.9641\n",
            "Epoch 6/50\n",
            "160/160 [==============================] - 28s 177ms/step - loss: 0.0731 - Precision: 0.9765 - Recall: 0.9765 - val_loss: 0.0878 - val_Precision: 0.9688 - val_Recall: 0.9688\n",
            "Epoch 7/50\n",
            "160/160 [==============================] - 28s 177ms/step - loss: 0.0671 - Precision: 0.9781 - Recall: 0.9781 - val_loss: 0.0704 - val_Precision: 0.9750 - val_Recall: 0.9750\n",
            "Epoch 8/50\n",
            "160/160 [==============================] - 28s 177ms/step - loss: 0.0654 - Precision: 0.9765 - Recall: 0.9765 - val_loss: 0.0787 - val_Precision: 0.9703 - val_Recall: 0.9703\n",
            "Epoch 9/50\n",
            "160/160 [==============================] - 28s 177ms/step - loss: 0.0606 - Precision: 0.9785 - Recall: 0.9785 - val_loss: 0.0792 - val_Precision: 0.9719 - val_Recall: 0.9719\n",
            "Epoch 10/50\n",
            "160/160 [==============================] - 28s 178ms/step - loss: 0.0624 - Precision: 0.9765 - Recall: 0.9765 - val_loss: 0.0985 - val_Precision: 0.9734 - val_Recall: 0.9734\n",
            "Epoch 11/50\n",
            "160/160 [==============================] - 28s 178ms/step - loss: 0.0571 - Precision: 0.9832 - Recall: 0.9832 - val_loss: 0.1263 - val_Precision: 0.9625 - val_Recall: 0.9625\n",
            "Epoch 12/50\n",
            "160/160 [==============================] - 28s 178ms/step - loss: 0.0632 - Precision: 0.9812 - Recall: 0.9812 - val_loss: 0.2119 - val_Precision: 0.9203 - val_Recall: 0.9203\n",
            "Epoch 13/50\n",
            "160/160 [==============================] - 28s 178ms/step - loss: 0.0602 - Precision: 0.9801 - Recall: 0.9801 - val_loss: 0.0679 - val_Precision: 0.9750 - val_Recall: 0.9750\n",
            "Epoch 14/50\n",
            "160/160 [==============================] - 28s 177ms/step - loss: 0.0471 - Precision: 0.9812 - Recall: 0.9812 - val_loss: 0.0871 - val_Precision: 0.9766 - val_Recall: 0.9766\n",
            "Epoch 15/50\n",
            "160/160 [==============================] - 28s 177ms/step - loss: 0.0484 - Precision: 0.9805 - Recall: 0.9805 - val_loss: 0.0926 - val_Precision: 0.9688 - val_Recall: 0.9688\n",
            "Epoch 16/50\n",
            "160/160 [==============================] - 28s 177ms/step - loss: 0.0549 - Precision: 0.9797 - Recall: 0.9797 - val_loss: 0.1067 - val_Precision: 0.9641 - val_Recall: 0.9641\n",
            "Epoch 17/50\n",
            "160/160 [==============================] - 28s 178ms/step - loss: 0.0597 - Precision: 0.9816 - Recall: 0.9816 - val_loss: 0.0760 - val_Precision: 0.9688 - val_Recall: 0.9688\n",
            "Epoch 18/50\n",
            "160/160 [==============================] - 28s 177ms/step - loss: 0.0497 - Precision: 0.9816 - Recall: 0.9816 - val_loss: 0.0825 - val_Precision: 0.9766 - val_Recall: 0.9766\n",
            "Epoch 19/50\n",
            "160/160 [==============================] - 28s 177ms/step - loss: 0.0485 - Precision: 0.9863 - Recall: 0.9863 - val_loss: 0.1249 - val_Precision: 0.9781 - val_Recall: 0.9781\n",
            "Epoch 20/50\n",
            "160/160 [==============================] - 28s 178ms/step - loss: 0.0485 - Precision: 0.9840 - Recall: 0.9840 - val_loss: 0.1187 - val_Precision: 0.9703 - val_Recall: 0.9703\n",
            "Epoch 21/50\n",
            "160/160 [==============================] - 28s 177ms/step - loss: 0.0479 - Precision: 0.9828 - Recall: 0.9828 - val_loss: 0.1590 - val_Precision: 0.9531 - val_Recall: 0.9531\n",
            "Epoch 22/50\n",
            "160/160 [==============================] - 28s 178ms/step - loss: 0.0470 - Precision: 0.9851 - Recall: 0.9851 - val_loss: 0.0655 - val_Precision: 0.9781 - val_Recall: 0.9781\n",
            "Epoch 23/50\n",
            "160/160 [==============================] - 28s 178ms/step - loss: 0.0536 - Precision: 0.9812 - Recall: 0.9812 - val_loss: 0.0779 - val_Precision: 0.9688 - val_Recall: 0.9688\n",
            "Epoch 24/50\n",
            "160/160 [==============================] - 28s 177ms/step - loss: 0.0424 - Precision: 0.9859 - Recall: 0.9859 - val_loss: 0.0712 - val_Precision: 0.9766 - val_Recall: 0.9766\n",
            "Epoch 25/50\n",
            "160/160 [==============================] - 28s 178ms/step - loss: 0.0439 - Precision: 0.9859 - Recall: 0.9859 - val_loss: 0.1015 - val_Precision: 0.9719 - val_Recall: 0.9719\n",
            "Epoch 26/50\n",
            "160/160 [==============================] - 28s 177ms/step - loss: 0.0425 - Precision: 0.9871 - Recall: 0.9871 - val_loss: 0.0979 - val_Precision: 0.9766 - val_Recall: 0.9766\n",
            "Epoch 27/50\n",
            "160/160 [==============================] - 28s 177ms/step - loss: 0.0330 - Precision: 0.9851 - Recall: 0.9851 - val_loss: 0.0862 - val_Precision: 0.9672 - val_Recall: 0.9672\n",
            "Epoch 28/50\n",
            "160/160 [==============================] - 28s 177ms/step - loss: 0.0410 - Precision: 0.9867 - Recall: 0.9867 - val_loss: 0.1057 - val_Precision: 0.9703 - val_Recall: 0.9703\n",
            "Epoch 29/50\n",
            "160/160 [==============================] - 28s 177ms/step - loss: 0.0394 - Precision: 0.9875 - Recall: 0.9875 - val_loss: 0.1256 - val_Precision: 0.9672 - val_Recall: 0.9672\n",
            "Epoch 30/50\n",
            "160/160 [==============================] - 28s 177ms/step - loss: 0.0374 - Precision: 0.9887 - Recall: 0.9887 - val_loss: 0.2110 - val_Precision: 0.9234 - val_Recall: 0.9234\n",
            "Epoch 31/50\n",
            "160/160 [==============================] - 28s 178ms/step - loss: 0.0329 - Precision: 0.9879 - Recall: 0.9879 - val_loss: 0.1284 - val_Precision: 0.9734 - val_Recall: 0.9734\n",
            "Epoch 32/50\n",
            "160/160 [==============================] - 29s 178ms/step - loss: 0.0360 - Precision: 0.9871 - Recall: 0.9871 - val_loss: 0.1288 - val_Precision: 0.9672 - val_Recall: 0.9672\n",
            "Epoch 33/50\n",
            "160/160 [==============================] - 29s 178ms/step - loss: 0.0422 - Precision: 0.9828 - Recall: 0.9828 - val_loss: 0.1225 - val_Precision: 0.9750 - val_Recall: 0.9750\n",
            "Epoch 34/50\n",
            "160/160 [==============================] - 28s 178ms/step - loss: 0.0388 - Precision: 0.9867 - Recall: 0.9867 - val_loss: 0.1248 - val_Precision: 0.9719 - val_Recall: 0.9719\n",
            "Epoch 35/50\n",
            "160/160 [==============================] - 28s 177ms/step - loss: 0.0482 - Precision: 0.9828 - Recall: 0.9828 - val_loss: 0.1230 - val_Precision: 0.9766 - val_Recall: 0.9766\n",
            "Epoch 36/50\n",
            "160/160 [==============================] - 28s 177ms/step - loss: 0.0403 - Precision: 0.9875 - Recall: 0.9875 - val_loss: 0.2317 - val_Precision: 0.9141 - val_Recall: 0.9141\n",
            "Epoch 37/50\n",
            "160/160 [==============================] - 28s 177ms/step - loss: 0.0354 - Precision: 0.9898 - Recall: 0.9898 - val_loss: 0.0910 - val_Precision: 0.9719 - val_Recall: 0.9719\n",
            "Epoch 38/50\n",
            "160/160 [==============================] - 28s 177ms/step - loss: 0.0350 - Precision: 0.9902 - Recall: 0.9902 - val_loss: 0.0987 - val_Precision: 0.9688 - val_Recall: 0.9688\n",
            "Epoch 39/50\n",
            "160/160 [==============================] - 28s 177ms/step - loss: 0.0345 - Precision: 0.9875 - Recall: 0.9875 - val_loss: 0.1134 - val_Precision: 0.9828 - val_Recall: 0.9828\n",
            "Epoch 40/50\n",
            "160/160 [==============================] - 28s 178ms/step - loss: 0.0386 - Precision: 0.9859 - Recall: 0.9859 - val_loss: 0.2633 - val_Precision: 0.9078 - val_Recall: 0.9078\n",
            "Epoch 41/50\n",
            "160/160 [==============================] - 28s 177ms/step - loss: 0.0284 - Precision: 0.9902 - Recall: 0.9902 - val_loss: 0.1578 - val_Precision: 0.9766 - val_Recall: 0.9766\n",
            "Epoch 42/50\n",
            "160/160 [==============================] - 28s 178ms/step - loss: 0.0209 - Precision: 0.9934 - Recall: 0.9934 - val_loss: 0.1290 - val_Precision: 0.9734 - val_Recall: 0.9734\n",
            "Epoch 43/50\n",
            "160/160 [==============================] - 28s 177ms/step - loss: 0.0291 - Precision: 0.9902 - Recall: 0.9902 - val_loss: 0.1710 - val_Precision: 0.9781 - val_Recall: 0.9781\n",
            "Epoch 44/50\n",
            "160/160 [==============================] - 28s 177ms/step - loss: 0.0405 - Precision: 0.9871 - Recall: 0.9871 - val_loss: 0.0979 - val_Precision: 0.9703 - val_Recall: 0.9703\n",
            "Epoch 45/50\n",
            "160/160 [==============================] - 28s 177ms/step - loss: 0.0310 - Precision: 0.9891 - Recall: 0.9891 - val_loss: 0.1638 - val_Precision: 0.9594 - val_Recall: 0.9594\n",
            "Epoch 46/50\n",
            "160/160 [==============================] - 28s 178ms/step - loss: 0.0319 - Precision: 0.9914 - Recall: 0.9914 - val_loss: 0.1293 - val_Precision: 0.9750 - val_Recall: 0.9750\n",
            "Epoch 47/50\n",
            "160/160 [==============================] - 28s 177ms/step - loss: 0.0270 - Precision: 0.9937 - Recall: 0.9937 - val_loss: 0.1640 - val_Precision: 0.9797 - val_Recall: 0.9797\n",
            "Epoch 48/50\n",
            "160/160 [==============================] - 28s 177ms/step - loss: 0.0261 - Precision: 0.9918 - Recall: 0.9918 - val_loss: 0.1271 - val_Precision: 0.9563 - val_Recall: 0.9563\n",
            "Epoch 49/50\n",
            "160/160 [==============================] - 28s 177ms/step - loss: 0.0252 - Precision: 0.9918 - Recall: 0.9918 - val_loss: 0.1310 - val_Precision: 0.9656 - val_Recall: 0.9656\n",
            "Epoch 50/50\n",
            "160/160 [==============================] - 28s 177ms/step - loss: 0.0274 - Precision: 0.9898 - Recall: 0.9898 - val_loss: 0.1078 - val_Precision: 0.9641 - val_Recall: 0.9641\n"
          ]
        },
        {
          "output_type": "execute_result",
          "data": {
            "text/plain": [
              "<keras.callbacks.History at 0x7f9520275910>"
            ]
          },
          "metadata": {},
          "execution_count": 37
        }
      ]
    },
    {
      "cell_type": "code",
      "source": [
        "prediction = model.predict(test_left)"
      ],
      "metadata": {
        "id": "MpNT1iX4v36Y"
      },
      "execution_count": null,
      "outputs": []
    },
    {
      "cell_type": "code",
      "source": [
        "prediction"
      ],
      "metadata": {
        "colab": {
          "base_uri": "https://localhost:8080/"
        },
        "id": "lwwGNeVr0Qv1",
        "outputId": "b036f082-fdd5-4495-ac50-747a2f725ec8"
      },
      "execution_count": null,
      "outputs": [
        {
          "output_type": "execute_result",
          "data": {
            "text/plain": [
              "array([[1.2144112e-08, 1.0000000e+00],\n",
              "       [8.6872865e-24, 1.0000000e+00],\n",
              "       [1.8298332e-23, 1.0000000e+00],\n",
              "       ...,\n",
              "       [1.8486247e-28, 1.0000000e+00],\n",
              "       [1.4549663e-34, 1.0000000e+00],\n",
              "       [1.7216012e-15, 1.0000000e+00]], dtype=float32)"
            ]
          },
          "metadata": {},
          "execution_count": 39
        }
      ]
    },
    {
      "cell_type": "code",
      "source": [
        "classes = np.argmax(prediction, axis=-1)\n",
        "classes"
      ],
      "metadata": {
        "colab": {
          "base_uri": "https://localhost:8080/"
        },
        "id": "W50IjuviB7p2",
        "outputId": "fd51d57b-c8da-45e0-8be2-50e96c3daf11"
      },
      "execution_count": null,
      "outputs": [
        {
          "output_type": "execute_result",
          "data": {
            "text/plain": [
              "array([1, 1, 1, 1, 1, 1, 1, 1, 1, 1, 1, 1, 1, 1, 1, 1, 1, 1, 1, 1, 1, 1,\n",
              "       1, 1, 1, 1, 1, 1, 1, 1, 1, 1, 1, 1, 1, 1, 1, 1, 1, 1, 1, 1, 1, 1,\n",
              "       1, 1, 1, 1, 1, 1, 0, 1, 1, 1, 1, 1, 0, 1, 0, 1, 1, 1, 1, 1, 1, 1,\n",
              "       1, 1, 1, 1, 0, 1, 1, 1, 1, 1, 1, 1, 1, 1, 1, 1, 1, 1, 1, 1, 1, 1,\n",
              "       1, 1, 1, 1, 1, 1, 1, 1, 1, 1, 1, 1, 1, 1, 1, 1, 1, 1, 1, 1, 1, 1,\n",
              "       1, 1, 1, 1, 1, 1, 1, 1, 1, 1, 1, 1, 1, 1, 1, 1, 1, 1, 1, 0, 1, 1,\n",
              "       1, 1, 1, 1, 1, 1, 1, 1, 1, 1, 1, 1, 1, 1, 1, 1, 1, 1, 1, 1, 1, 1,\n",
              "       1, 1, 1, 1, 1, 1, 1, 1, 1, 1, 1, 1, 1, 1, 1, 1, 1, 1, 1, 1, 0, 1,\n",
              "       1, 1, 1, 1, 0, 1, 1, 0, 1, 1, 1, 1, 1, 1, 1, 1, 1, 1, 0, 1, 1, 1,\n",
              "       1, 1, 1, 1, 1, 1, 1, 1, 1, 1, 1, 1, 1, 1, 1, 0, 1, 1, 1, 1, 1, 1,\n",
              "       1, 1, 1, 1, 1, 1, 1, 1, 0, 1, 1, 1, 1, 1, 1, 1, 1, 1, 1, 1, 1, 1,\n",
              "       1, 1, 1, 1, 1, 1, 1, 1, 1, 1, 1, 1, 1, 1, 1, 1, 1, 1, 1, 1, 1, 1,\n",
              "       1, 1, 1, 1, 1, 1, 1, 1, 0, 1, 1, 1, 1, 1, 1, 1, 1, 1, 1, 1, 1, 1,\n",
              "       1, 1, 1, 1, 0, 1, 1, 1, 1, 1, 1, 1, 1, 1, 1, 1, 1, 1, 1, 1, 1, 1,\n",
              "       1, 1, 1, 0, 1, 1, 1, 1, 1, 1, 1, 1, 1, 1, 1, 1, 1, 1, 1, 0, 1, 1,\n",
              "       1, 1, 1, 1, 1, 1, 1, 1, 1, 1, 1, 1, 1, 1, 1, 1, 1, 0, 1, 0, 1, 0,\n",
              "       1, 1, 1, 1, 0, 1, 1, 1, 1, 1, 0, 1, 1, 1, 1, 1, 1, 1, 0, 1, 1, 1,\n",
              "       1, 1, 1, 1, 1, 1, 1, 1, 1, 1, 1, 1, 1, 1, 1, 1, 1, 1, 1, 1, 1, 1,\n",
              "       1, 1, 1, 1, 1, 1, 1, 0, 1, 1, 1, 1, 1, 0, 1, 1, 1, 1, 1, 1, 1, 0,\n",
              "       1, 1, 1, 1, 1, 1, 1, 1, 0, 1, 1, 1, 0, 1, 1, 0, 1, 1, 1, 1, 1, 1,\n",
              "       1, 1, 1, 1, 1, 1, 1, 1, 1, 1, 1, 1, 1, 1, 1, 0, 1, 1, 1, 1, 1, 1,\n",
              "       1, 1, 1, 1, 1, 1, 1, 1, 1, 1, 1, 1, 1, 1, 1, 1, 1, 1, 1, 1, 1, 1,\n",
              "       1, 1, 1, 0, 1, 1, 1, 0, 1, 1, 1, 1, 1, 0, 1, 1, 1, 1, 1, 0, 1, 1,\n",
              "       1, 1, 1, 1, 1, 1, 1, 1, 1, 1, 1, 1, 1, 1, 1, 1, 1, 1, 1, 1, 1, 1,\n",
              "       1, 1, 1, 1, 1, 1, 1, 1, 1, 1, 1, 1, 1, 1, 1, 1, 1, 1, 1, 1, 1, 1,\n",
              "       1, 1, 1, 0, 1, 1, 1, 1, 1, 1, 1, 1, 1, 1, 1, 1, 1, 1, 1, 1, 0, 0,\n",
              "       1, 1, 1, 1, 1, 1, 1, 1, 1, 1, 1, 1, 1, 1, 1, 0, 1, 1, 1, 1, 1, 1,\n",
              "       1, 1, 1, 1, 1, 1, 1, 0, 1, 1, 1, 1, 1, 1, 1, 1, 1, 1, 1, 1, 1, 1,\n",
              "       1, 1, 1, 1, 1, 1, 1, 1, 0, 1, 0, 0, 1, 1, 1, 1, 1, 1, 1, 1, 0, 1,\n",
              "       1, 1])"
            ]
          },
          "metadata": {},
          "execution_count": 40
        }
      ]
    },
    {
      "cell_type": "code",
      "source": [
        "from sklearn.metrics import f1_score, confusion_matrix\n",
        "\n",
        "f1_score(test_left.classes,classes, average=None)"
      ],
      "metadata": {
        "colab": {
          "base_uri": "https://localhost:8080/"
        },
        "id": "197tKvImCGhw",
        "outputId": "363fb7de-2333-4165-eb25-2ea8e34dc81d"
      },
      "execution_count": null,
      "outputs": [
        {
          "output_type": "execute_result",
          "data": {
            "text/plain": [
              "array([0.05633803, 0.9445823 ])"
            ]
          },
          "metadata": {},
          "execution_count": 41
        }
      ]
    },
    {
      "cell_type": "code",
      "source": [
        "confusion_matrix(test_left.classes,classes)"
      ],
      "metadata": {
        "colab": {
          "base_uri": "https://localhost:8080/"
        },
        "id": "aiwmdacfCa73",
        "outputId": "5119320e-6c6f-4c16-d33e-98b415d0707e"
      },
      "execution_count": null,
      "outputs": [
        {
          "output_type": "execute_result",
          "data": {
            "text/plain": [
              "array([[  2,  28],\n",
              "       [ 39, 571]])"
            ]
          },
          "metadata": {},
          "execution_count": 42
        }
      ]
    },
    {
      "cell_type": "code",
      "source": [
        "prediction = model.predict(train_left)"
      ],
      "metadata": {
        "id": "UlDYwx7qfX-i"
      },
      "execution_count": null,
      "outputs": []
    },
    {
      "cell_type": "code",
      "source": [
        "prediction"
      ],
      "metadata": {
        "colab": {
          "base_uri": "https://localhost:8080/"
        },
        "outputId": "ee56ed04-affa-478a-f4d0-e99c91dce01e",
        "id": "pMuR5zbLfX-j"
      },
      "execution_count": null,
      "outputs": [
        {
          "output_type": "execute_result",
          "data": {
            "text/plain": [
              "array([[1.8293132e-12, 1.0000000e+00],\n",
              "       [6.7119477e-29, 1.0000000e+00],\n",
              "       [2.7680214e-27, 1.0000000e+00],\n",
              "       ...,\n",
              "       [4.0438674e-15, 1.0000000e+00],\n",
              "       [2.8269648e-15, 1.0000000e+00],\n",
              "       [9.3395215e-11, 1.0000000e+00]], dtype=float32)"
            ]
          },
          "metadata": {},
          "execution_count": 44
        }
      ]
    },
    {
      "cell_type": "code",
      "source": [
        "classes = np.argmax(prediction, axis=-1)\n",
        "classes"
      ],
      "metadata": {
        "colab": {
          "base_uri": "https://localhost:8080/"
        },
        "outputId": "6fc13c82-b752-4b26-cc5f-9ce73b9fb43e",
        "id": "Ey1jHh8qfX-k"
      },
      "execution_count": null,
      "outputs": [
        {
          "output_type": "execute_result",
          "data": {
            "text/plain": [
              "array([1, 1, 1, ..., 1, 1, 1])"
            ]
          },
          "metadata": {},
          "execution_count": 45
        }
      ]
    },
    {
      "cell_type": "code",
      "source": [
        "from sklearn.metrics import f1_score, confusion_matrix\n",
        "\n",
        "f1_score(train_left.classes,classes, average=None)"
      ],
      "metadata": {
        "colab": {
          "base_uri": "https://localhost:8080/"
        },
        "outputId": "63e65200-3ed9-424e-e459-76a327115076",
        "id": "t_hHxkAZfX-l"
      },
      "execution_count": null,
      "outputs": [
        {
          "output_type": "execute_result",
          "data": {
            "text/plain": [
              "array([0.02352941, 0.94877597])"
            ]
          },
          "metadata": {},
          "execution_count": 46
        }
      ]
    },
    {
      "cell_type": "code",
      "source": [
        "confusion_matrix(train_left.classes,classes)"
      ],
      "metadata": {
        "colab": {
          "base_uri": "https://localhost:8080/"
        },
        "outputId": "a843d433-9256-4301-d96c-d40ff74c009b",
        "id": "Kf-a1jKRfX-m"
      },
      "execution_count": null,
      "outputs": [
        {
          "output_type": "execute_result",
          "data": {
            "text/plain": [
              "array([[   3,  120],\n",
              "       [ 129, 2306]])"
            ]
          },
          "metadata": {},
          "execution_count": 47
        }
      ]
    },
    {
      "cell_type": "code",
      "source": [
        "url = './preprocessed_images/0_left.jpg'"
      ],
      "metadata": {
        "id": "nKZIpIhGCAce"
      },
      "execution_count": null,
      "outputs": []
    },
    {
      "cell_type": "code",
      "source": [
        "def read_and_transform_img(url):\n",
        "\n",
        "    img = keras.preprocessing.image.load_img(\n",
        "    url, target_size=(224,224))\n",
        "    img_array = keras.preprocessing.image.img_to_array(img)\n",
        "    #img_array = tf.expand_dims(img_array, 0)\n",
        "\n",
        "    return img_array\n",
        "\n",
        "images = read_and_transform_img(url)"
      ],
      "metadata": {
        "id": "UVEWe-n7CAch"
      },
      "execution_count": null,
      "outputs": []
    },
    {
      "cell_type": "code",
      "source": [
        "images.shape"
      ],
      "metadata": {
        "colab": {
          "base_uri": "https://localhost:8080/"
        },
        "outputId": "69be6e58-f890-46e7-e1ba-e49668309009",
        "id": "WA8kgfiUCAch"
      },
      "execution_count": null,
      "outputs": [
        {
          "output_type": "execute_result",
          "data": {
            "text/plain": [
              "(224, 224, 3)"
            ]
          },
          "metadata": {},
          "execution_count": 50
        }
      ]
    },
    {
      "cell_type": "code",
      "source": [
        "explainer = lime_image.LimeImageExplainer()\n",
        "\n",
        "explanation = explainer.explain_instance(images.astype('double'), model.predict,  \n",
        "                                         top_labels=10, hide_color=0, num_samples=1000)"
      ],
      "metadata": {
        "colab": {
          "base_uri": "https://localhost:8080/",
          "height": 49,
          "referenced_widgets": [
            "607ea62d410b4f0892a81749a2cbf1c7",
            "4ad831f9ccb1498d847e9ef6d3b49892",
            "33ec07e910e2413f828b0c5a54b01aef",
            "124c9b4b51ca4658b3e5273e83a0d4bd",
            "c19e97c5f5bc4887bfd4a9e36a226961",
            "303ff851c35c4e339a7a6173cc0a2c77",
            "62e4bd3e04c74c5199631d35b8f13eb6",
            "9f64b6fc9fd149daa41eb6189f9b9ae5",
            "3acc4c8a2b4d472bb2231334e9bb4d85",
            "367676a37e504397abb918580addbec0",
            "7c4d948c7ba643a6901e74afb5789fc2"
          ]
        },
        "outputId": "5004e928-7670-4849-ec88-6cf3b5d83669",
        "id": "OfsrreUtCAci"
      },
      "execution_count": null,
      "outputs": [
        {
          "output_type": "display_data",
          "data": {
            "application/vnd.jupyter.widget-view+json": {
              "model_id": "607ea62d410b4f0892a81749a2cbf1c7",
              "version_minor": 0,
              "version_major": 2
            },
            "text/plain": [
              "  0%|          | 0/1000 [00:00<?, ?it/s]"
            ]
          },
          "metadata": {}
        }
      ]
    },
    {
      "cell_type": "code",
      "source": [
        "temp_1, mask_1 = explanation.get_image_and_mask(explanation.top_labels[0], positive_only=True, num_features=10, hide_rest=True)\n",
        "temp_2, mask_2 = explanation.get_image_and_mask(explanation.top_labels[0], positive_only=False, num_features=50, hide_rest=False)\n",
        "\n",
        "fig, (ax1, ax2) = plt.subplots(1, 2, figsize=(15,15))\n",
        "ax1.imshow(mark_boundaries(temp_1, mask_1))\n",
        "ax2.imshow(mark_boundaries(temp_2, mask_2))\n",
        "ax1.axis('off')\n",
        "ax2.axis('off')"
      ],
      "metadata": {
        "colab": {
          "base_uri": "https://localhost:8080/",
          "height": 463
        },
        "outputId": "9d7b98a6-0795-462d-9950-3771761c8c88",
        "id": "_fo253cVCAcj"
      },
      "execution_count": null,
      "outputs": [
        {
          "output_type": "stream",
          "name": "stderr",
          "text": [
            "Clipping input data to the valid range for imshow with RGB data ([0..1] for floats or [0..255] for integers).\n",
            "Clipping input data to the valid range for imshow with RGB data ([0..1] for floats or [0..255] for integers).\n"
          ]
        },
        {
          "output_type": "execute_result",
          "data": {
            "text/plain": [
              "(-0.5, 223.5, 223.5, -0.5)"
            ]
          },
          "metadata": {},
          "execution_count": 52
        },
        {
          "output_type": "display_data",
          "data": {
            "image/png": "[encoded data removed]",
            "text/plain": [
              "<Figure size 1080x1080 with 2 Axes>"
            ]
          },
          "metadata": {
            "needs_background": "light"
          }
        }
      ]
    },
    {
      "cell_type": "markdown",
      "source": [
        "#Modeling with EfficientNETV2 small"
      ],
      "metadata": {
        "id": "qZPzT2-oFJT4"
      }
    },
    {
      "cell_type": "code",
      "source": [
        "os.environ['PYTHONHASHSEED'] = '0'\n",
        "\n",
        "tf.keras.backend.clear_session()\n",
        "\n",
        "np.random.seed(0)\n",
        "\n",
        "model = Sequential()\n",
        "inp = Input(shape=(224,224,3),name='Input_Layer')\n",
        "model.add(inp)\n",
        "model.add(data_augmentation)\n",
        "\n",
        "eff = tf.keras.applications.efficientnet_v2.EfficientNetV2B0(include_top=False, weights='imagenet')\n",
        "eff.trainable = False\n",
        "model.add(eff)\n",
        "model.add(layers.BatchNormalization())\n",
        "Con = Conv2D(filters=128,kernel_size=(3,3),strides=(1,1),padding='valid',data_format='channels_last',\n",
        "              activation='relu',kernel_initializer=tf.keras.initializers.he_normal(seed=0),name='Conv1')\n",
        "model.add(Con)\n",
        "model.add(layers.BatchNormalization())\n",
        "\n",
        "flat = Flatten(data_format='channels_last',name='Flatten')\n",
        "model.add(flat)\n",
        "\n",
        "FC1 = Dense(units=112,activation='relu',kernel_initializer=tf.keras.initializers.glorot_normal(seed=32),name='FC1')\n",
        "model.add(FC1)\n",
        "model.add(layers.BatchNormalization())\n",
        "FC2 = Dense(units=64,activation='relu',kernel_initializer=tf.keras.initializers.glorot_normal(seed=33),name='FC2')\n",
        "model.add(FC2)\n",
        "\n",
        "Out = Dense(units=2,activation='softmax',kernel_initializer=tf.keras.initializers.glorot_normal(seed=3),name='Output')\n",
        "model.add(Out)\n",
        "\n",
        "model.compile(optimizer=tf.keras.optimizers.Adam(learning_rate=0.01),loss='binary_crossentropy',metrics=METRICS)\n",
        "model.summary()"
      ],
      "metadata": {
        "colab": {
          "base_uri": "https://localhost:8080/"
        },
        "outputId": "6614e134-57b9-454b-941b-52b99fa4750e",
        "id": "orvfLWbDFJT6"
      },
      "execution_count": null,
      "outputs": [
        {
          "output_type": "stream",
          "name": "stdout",
          "text": [
            "Model: \"sequential\"\n",
            "_________________________________________________________________\n",
            " Layer (type)                Output Shape              Param #   \n",
            "=================================================================\n",
            " sequential_1 (Sequential)   (None, 224, 224, 3)       0         \n",
            "                                                                 \n",
            " efficientnetv2-b0 (Function  (None, None, None, 1280)  5919312  \n",
            " al)                                                             \n",
            "                                                                 \n",
            " batch_normalization (BatchN  (None, 7, 7, 1280)       5120      \n",
            " ormalization)                                                   \n",
            "                                                                 \n",
            " Conv1 (Conv2D)              (None, 5, 5, 128)         1474688   \n",
            "                                                                 \n",
            " batch_normalization_1 (Batc  (None, 5, 5, 128)        512       \n",
            " hNormalization)                                                 \n",
            "                                                                 \n",
            " Flatten (Flatten)           (None, 3200)              0         \n",
            "                                                                 \n",
            " FC1 (Dense)                 (None, 112)               358512    \n",
            "                                                                 \n",
            " batch_normalization_2 (Batc  (None, 112)              448       \n",
            " hNormalization)                                                 \n",
            "                                                                 \n",
            " FC2 (Dense)                 (None, 64)                7232      \n",
            "                                                                 \n",
            " Output (Dense)              (None, 2)                 130       \n",
            "                                                                 \n",
            "=================================================================\n",
            "Total params: 7,765,954\n",
            "Trainable params: 1,843,602\n",
            "Non-trainable params: 5,922,352\n",
            "_________________________________________________________________\n"
          ]
        }
      ]
    },
    {
      "cell_type": "code",
      "source": [
        "model.fit(train_left,epochs=50, validation_data=test_left)"
      ],
      "metadata": {
        "colab": {
          "base_uri": "https://localhost:8080/"
        },
        "outputId": "67c0fa5b-78c6-4d55-b172-666c83f74525",
        "id": "Y-fcZapIFJT7"
      },
      "execution_count": null,
      "outputs": [
        {
          "output_type": "stream",
          "name": "stdout",
          "text": [
            "Epoch 1/50\n",
            "160/160 [==============================] - 31s 141ms/step - loss: 0.1202 - Precision: 0.9556 - Recall: 0.9556 - val_loss: 0.1405 - val_Precision: 0.9312 - val_Recall: 0.9312\n",
            "Epoch 2/50\n",
            "160/160 [==============================] - 20s 128ms/step - loss: 0.0882 - Precision: 0.9687 - Recall: 0.9687 - val_loss: 0.1059 - val_Precision: 0.9547 - val_Recall: 0.9547\n",
            "Epoch 3/50\n",
            "160/160 [==============================] - 21s 128ms/step - loss: 0.0831 - Precision: 0.9699 - Recall: 0.9699 - val_loss: 0.1157 - val_Precision: 0.9406 - val_Recall: 0.9406\n",
            "Epoch 4/50\n",
            "160/160 [==============================] - 20s 128ms/step - loss: 0.0726 - Precision: 0.9750 - Recall: 0.9750 - val_loss: 0.0529 - val_Precision: 0.9891 - val_Recall: 0.9891\n",
            "Epoch 5/50\n",
            "160/160 [==============================] - 21s 128ms/step - loss: 0.0736 - Precision: 0.9769 - Recall: 0.9769 - val_loss: 0.2623 - val_Precision: 0.9172 - val_Recall: 0.9172\n",
            "Epoch 6/50\n",
            "160/160 [==============================] - 21s 128ms/step - loss: 0.0515 - Precision: 0.9820 - Recall: 0.9820 - val_loss: 0.0600 - val_Precision: 0.9766 - val_Recall: 0.9766\n",
            "Epoch 7/50\n",
            "160/160 [==============================] - 21s 128ms/step - loss: 0.0425 - Precision: 0.9851 - Recall: 0.9851 - val_loss: 0.0827 - val_Precision: 0.9781 - val_Recall: 0.9781\n",
            "Epoch 8/50\n",
            "160/160 [==============================] - 21s 129ms/step - loss: 0.0534 - Precision: 0.9812 - Recall: 0.9812 - val_loss: 0.0687 - val_Precision: 0.9766 - val_Recall: 0.9766\n",
            "Epoch 9/50\n",
            "160/160 [==============================] - 20s 127ms/step - loss: 0.0450 - Precision: 0.9808 - Recall: 0.9808 - val_loss: 0.1231 - val_Precision: 0.9422 - val_Recall: 0.9422\n",
            "Epoch 10/50\n",
            "160/160 [==============================] - 20s 127ms/step - loss: 0.0452 - Precision: 0.9832 - Recall: 0.9832 - val_loss: 0.0975 - val_Precision: 0.9656 - val_Recall: 0.9656\n",
            "Epoch 11/50\n",
            "160/160 [==============================] - 20s 127ms/step - loss: 0.0386 - Precision: 0.9844 - Recall: 0.9844 - val_loss: 0.0718 - val_Precision: 0.9766 - val_Recall: 0.9766\n",
            "Epoch 12/50\n",
            "160/160 [==============================] - 20s 127ms/step - loss: 0.0370 - Precision: 0.9883 - Recall: 0.9883 - val_loss: 0.1737 - val_Precision: 0.9594 - val_Recall: 0.9594\n",
            "Epoch 13/50\n",
            "160/160 [==============================] - 20s 127ms/step - loss: 0.0440 - Precision: 0.9859 - Recall: 0.9859 - val_loss: 0.0707 - val_Precision: 0.9844 - val_Recall: 0.9844\n",
            "Epoch 14/50\n",
            "160/160 [==============================] - 20s 127ms/step - loss: 0.0260 - Precision: 0.9910 - Recall: 0.9910 - val_loss: 0.1011 - val_Precision: 0.9781 - val_Recall: 0.9781\n",
            "Epoch 15/50\n",
            "160/160 [==============================] - 20s 127ms/step - loss: 0.0320 - Precision: 0.9879 - Recall: 0.9879 - val_loss: 0.0947 - val_Precision: 0.9797 - val_Recall: 0.9797\n",
            "Epoch 16/50\n",
            "160/160 [==============================] - 20s 128ms/step - loss: 0.0385 - Precision: 0.9894 - Recall: 0.9894 - val_loss: 0.0808 - val_Precision: 0.9781 - val_Recall: 0.9781\n",
            "Epoch 17/50\n",
            "160/160 [==============================] - 20s 128ms/step - loss: 0.0291 - Precision: 0.9930 - Recall: 0.9930 - val_loss: 0.1056 - val_Precision: 0.9734 - val_Recall: 0.9734\n",
            "Epoch 18/50\n",
            "160/160 [==============================] - 20s 127ms/step - loss: 0.0230 - Precision: 0.9914 - Recall: 0.9914 - val_loss: 0.1306 - val_Precision: 0.9797 - val_Recall: 0.9797\n",
            "Epoch 19/50\n",
            "160/160 [==============================] - 20s 127ms/step - loss: 0.0353 - Precision: 0.9879 - Recall: 0.9879 - val_loss: 0.1065 - val_Precision: 0.9766 - val_Recall: 0.9766\n",
            "Epoch 20/50\n",
            "160/160 [==============================] - 20s 128ms/step - loss: 0.0270 - Precision: 0.9914 - Recall: 0.9914 - val_loss: 0.3463 - val_Precision: 0.8750 - val_Recall: 0.8750\n",
            "Epoch 21/50\n",
            "160/160 [==============================] - 21s 128ms/step - loss: 0.0279 - Precision: 0.9910 - Recall: 0.9910 - val_loss: 0.1785 - val_Precision: 0.9719 - val_Recall: 0.9719\n",
            "Epoch 22/50\n",
            "160/160 [==============================] - 20s 128ms/step - loss: 0.0295 - Precision: 0.9887 - Recall: 0.9887 - val_loss: 0.1170 - val_Precision: 0.9781 - val_Recall: 0.9781\n",
            "Epoch 23/50\n",
            "160/160 [==============================] - 21s 130ms/step - loss: 0.0269 - Precision: 0.9926 - Recall: 0.9926 - val_loss: 0.0804 - val_Precision: 0.9734 - val_Recall: 0.9734\n",
            "Epoch 24/50\n",
            "160/160 [==============================] - 20s 128ms/step - loss: 0.0200 - Precision: 0.9934 - Recall: 0.9934 - val_loss: 0.1074 - val_Precision: 0.9781 - val_Recall: 0.9781\n",
            "Epoch 25/50\n",
            "160/160 [==============================] - 20s 127ms/step - loss: 0.0205 - Precision: 0.9910 - Recall: 0.9910 - val_loss: 0.1345 - val_Precision: 0.9734 - val_Recall: 0.9734\n",
            "Epoch 26/50\n",
            "160/160 [==============================] - 20s 127ms/step - loss: 0.0224 - Precision: 0.9930 - Recall: 0.9930 - val_loss: 0.0761 - val_Precision: 0.9812 - val_Recall: 0.9812\n",
            "Epoch 27/50\n",
            "160/160 [==============================] - 20s 127ms/step - loss: 0.0248 - Precision: 0.9926 - Recall: 0.9926 - val_loss: 0.0954 - val_Precision: 0.9672 - val_Recall: 0.9672\n",
            "Epoch 28/50\n",
            "160/160 [==============================] - 20s 127ms/step - loss: 0.0238 - Precision: 0.9926 - Recall: 0.9926 - val_loss: 0.1095 - val_Precision: 0.9703 - val_Recall: 0.9703\n",
            "Epoch 29/50\n",
            "160/160 [==============================] - 20s 127ms/step - loss: 0.0175 - Precision: 0.9949 - Recall: 0.9949 - val_loss: 0.1415 - val_Precision: 0.9484 - val_Recall: 0.9484\n",
            "Epoch 30/50\n",
            "160/160 [==============================] - 20s 128ms/step - loss: 0.0332 - Precision: 0.9910 - Recall: 0.9910 - val_loss: 0.1033 - val_Precision: 0.9766 - val_Recall: 0.9766\n",
            "Epoch 31/50\n",
            "160/160 [==============================] - 20s 127ms/step - loss: 0.0152 - Precision: 0.9937 - Recall: 0.9937 - val_loss: 0.1504 - val_Precision: 0.9625 - val_Recall: 0.9625\n",
            "Epoch 32/50\n",
            "160/160 [==============================] - 20s 127ms/step - loss: 0.0176 - Precision: 0.9949 - Recall: 0.9949 - val_loss: 0.1569 - val_Precision: 0.9719 - val_Recall: 0.9719\n",
            "Epoch 33/50\n",
            "160/160 [==============================] - 20s 128ms/step - loss: 0.0178 - Precision: 0.9949 - Recall: 0.9949 - val_loss: 0.1356 - val_Precision: 0.9594 - val_Recall: 0.9594\n",
            "Epoch 34/50\n",
            "160/160 [==============================] - 20s 127ms/step - loss: 0.0206 - Precision: 0.9937 - Recall: 0.9937 - val_loss: 0.1267 - val_Precision: 0.9766 - val_Recall: 0.9766\n",
            "Epoch 35/50\n",
            "160/160 [==============================] - 20s 127ms/step - loss: 0.0280 - Precision: 0.9918 - Recall: 0.9918 - val_loss: 0.1058 - val_Precision: 0.9797 - val_Recall: 0.9797\n",
            "Epoch 36/50\n",
            "160/160 [==============================] - 20s 128ms/step - loss: 0.0120 - Precision: 0.9965 - Recall: 0.9965 - val_loss: 0.1962 - val_Precision: 0.9781 - val_Recall: 0.9781\n",
            "Epoch 37/50\n",
            "160/160 [==============================] - 20s 127ms/step - loss: 0.0174 - Precision: 0.9937 - Recall: 0.9937 - val_loss: 0.1465 - val_Precision: 0.9703 - val_Recall: 0.9703\n",
            "Epoch 38/50\n",
            "160/160 [==============================] - 21s 128ms/step - loss: 0.0205 - Precision: 0.9937 - Recall: 0.9937 - val_loss: 0.1558 - val_Precision: 0.9781 - val_Recall: 0.9781\n",
            "Epoch 39/50\n",
            "160/160 [==============================] - 20s 127ms/step - loss: 0.0146 - Precision: 0.9953 - Recall: 0.9953 - val_loss: 0.1884 - val_Precision: 0.9609 - val_Recall: 0.9609\n",
            "Epoch 40/50\n",
            "160/160 [==============================] - 20s 127ms/step - loss: 0.0191 - Precision: 0.9937 - Recall: 0.9937 - val_loss: 0.0970 - val_Precision: 0.9734 - val_Recall: 0.9734\n",
            "Epoch 41/50\n",
            "160/160 [==============================] - 20s 127ms/step - loss: 0.0106 - Precision: 0.9949 - Recall: 0.9949 - val_loss: 0.1398 - val_Precision: 0.9797 - val_Recall: 0.9797\n",
            "Epoch 42/50\n",
            "160/160 [==============================] - 20s 127ms/step - loss: 0.0330 - Precision: 0.9883 - Recall: 0.9883 - val_loss: 0.1053 - val_Precision: 0.9734 - val_Recall: 0.9734\n",
            "Epoch 43/50\n",
            "160/160 [==============================] - 20s 127ms/step - loss: 0.0247 - Precision: 0.9918 - Recall: 0.9918 - val_loss: 0.1869 - val_Precision: 0.9750 - val_Recall: 0.9750\n",
            "Epoch 44/50\n",
            "160/160 [==============================] - 20s 127ms/step - loss: 0.0187 - Precision: 0.9930 - Recall: 0.9930 - val_loss: 0.1363 - val_Precision: 0.9719 - val_Recall: 0.9719\n",
            "Epoch 45/50\n",
            "160/160 [==============================] - 20s 127ms/step - loss: 0.0093 - Precision: 0.9953 - Recall: 0.9953 - val_loss: 0.1621 - val_Precision: 0.9734 - val_Recall: 0.9734\n",
            "Epoch 46/50\n",
            "160/160 [==============================] - 20s 127ms/step - loss: 0.0173 - Precision: 0.9945 - Recall: 0.9945 - val_loss: 0.1659 - val_Precision: 0.9703 - val_Recall: 0.9703\n",
            "Epoch 47/50\n",
            "160/160 [==============================] - 20s 127ms/step - loss: 0.0132 - Precision: 0.9965 - Recall: 0.9965 - val_loss: 0.1878 - val_Precision: 0.9766 - val_Recall: 0.9766\n",
            "Epoch 48/50\n",
            "160/160 [==============================] - 20s 127ms/step - loss: 0.0067 - Precision: 0.9973 - Recall: 0.9973 - val_loss: 0.1770 - val_Precision: 0.9703 - val_Recall: 0.9703\n",
            "Epoch 49/50\n",
            "160/160 [==============================] - 20s 128ms/step - loss: 0.0129 - Precision: 0.9961 - Recall: 0.9961 - val_loss: 0.2265 - val_Precision: 0.9563 - val_Recall: 0.9563\n",
            "Epoch 50/50\n",
            "160/160 [==============================] - 20s 127ms/step - loss: 0.0125 - Precision: 0.9945 - Recall: 0.9945 - val_loss: 0.1075 - val_Precision: 0.9781 - val_Recall: 0.9781\n"
          ]
        },
        {
          "output_type": "execute_result",
          "data": {
            "text/plain": [
              "<keras.callbacks.History at 0x7f93fc269e90>"
            ]
          },
          "metadata": {},
          "execution_count": 54
        }
      ]
    },
    {
      "cell_type": "code",
      "source": [
        "prediction = model.predict(test_left)"
      ],
      "metadata": {
        "id": "U6lYdEDyK63N"
      },
      "execution_count": null,
      "outputs": []
    },
    {
      "cell_type": "code",
      "source": [
        "prediction"
      ],
      "metadata": {
        "colab": {
          "base_uri": "https://localhost:8080/"
        },
        "outputId": "c36db227-d89e-455e-9ac0-628792348b6b",
        "id": "TacZirQ8K63p"
      },
      "execution_count": null,
      "outputs": [
        {
          "output_type": "execute_result",
          "data": {
            "text/plain": [
              "array([[2.0029478e-19, 1.0000000e+00],\n",
              "       [5.8074320e-18, 1.0000000e+00],\n",
              "       [3.5774531e-14, 1.0000000e+00],\n",
              "       ...,\n",
              "       [4.8805525e-30, 1.0000000e+00],\n",
              "       [3.0393469e-19, 1.0000000e+00],\n",
              "       [1.5736094e-17, 1.0000000e+00]], dtype=float32)"
            ]
          },
          "metadata": {},
          "execution_count": 56
        }
      ]
    },
    {
      "cell_type": "code",
      "source": [
        "classes = np.argmax(prediction, axis=-1)\n",
        "classes"
      ],
      "metadata": {
        "colab": {
          "base_uri": "https://localhost:8080/"
        },
        "outputId": "0f4907ef-de4e-47db-e3fa-39a148fdef21",
        "id": "oyphXSHEK63q"
      },
      "execution_count": null,
      "outputs": [
        {
          "output_type": "execute_result",
          "data": {
            "text/plain": [
              "array([1, 1, 1, 1, 1, 1, 1, 1, 1, 1, 1, 1, 1, 1, 1, 1, 1, 1, 1, 1, 1, 1,\n",
              "       1, 1, 1, 1, 1, 1, 1, 1, 1, 1, 1, 1, 1, 1, 1, 1, 1, 1, 1, 1, 1, 1,\n",
              "       1, 1, 1, 1, 1, 1, 0, 1, 1, 1, 1, 1, 0, 1, 0, 1, 1, 1, 1, 1, 1, 1,\n",
              "       1, 1, 1, 1, 1, 1, 1, 1, 1, 1, 1, 1, 1, 1, 1, 1, 1, 1, 1, 1, 1, 1,\n",
              "       1, 1, 1, 1, 1, 1, 1, 1, 1, 1, 1, 1, 0, 1, 1, 1, 1, 1, 1, 1, 1, 1,\n",
              "       1, 1, 1, 1, 1, 1, 1, 1, 1, 1, 1, 1, 1, 1, 1, 1, 1, 1, 1, 1, 1, 1,\n",
              "       1, 1, 1, 1, 1, 1, 1, 1, 1, 1, 1, 1, 1, 1, 1, 1, 1, 1, 1, 1, 1, 1,\n",
              "       1, 1, 1, 1, 1, 1, 1, 1, 1, 1, 1, 1, 1, 1, 1, 1, 1, 1, 1, 1, 0, 1,\n",
              "       1, 1, 1, 1, 0, 1, 1, 0, 1, 1, 1, 1, 1, 1, 1, 1, 1, 1, 0, 1, 1, 1,\n",
              "       1, 1, 1, 1, 1, 1, 1, 1, 1, 1, 1, 1, 1, 1, 1, 0, 1, 1, 1, 1, 1, 1,\n",
              "       1, 1, 1, 1, 1, 1, 1, 1, 0, 1, 1, 1, 1, 1, 1, 1, 1, 1, 1, 1, 1, 1,\n",
              "       1, 1, 1, 0, 1, 1, 1, 1, 1, 1, 1, 1, 1, 1, 1, 1, 1, 1, 1, 1, 1, 1,\n",
              "       1, 1, 1, 1, 1, 1, 1, 1, 1, 1, 0, 1, 1, 1, 1, 1, 1, 1, 1, 1, 1, 1,\n",
              "       1, 1, 1, 1, 0, 1, 1, 1, 1, 1, 1, 1, 1, 1, 1, 1, 1, 1, 1, 1, 1, 1,\n",
              "       1, 1, 1, 0, 1, 1, 1, 1, 1, 1, 1, 1, 1, 1, 1, 1, 1, 1, 1, 0, 1, 1,\n",
              "       1, 1, 1, 1, 1, 1, 1, 1, 1, 1, 1, 1, 1, 1, 1, 1, 1, 1, 1, 1, 1, 0,\n",
              "       1, 1, 1, 1, 0, 1, 1, 1, 1, 1, 1, 1, 1, 1, 1, 1, 1, 1, 1, 1, 1, 1,\n",
              "       1, 1, 1, 1, 1, 1, 1, 1, 1, 1, 1, 1, 1, 1, 1, 1, 1, 1, 1, 1, 1, 1,\n",
              "       1, 1, 1, 1, 1, 1, 1, 1, 1, 1, 1, 1, 1, 1, 1, 1, 1, 1, 1, 1, 1, 1,\n",
              "       1, 1, 1, 1, 1, 1, 1, 1, 0, 1, 1, 1, 1, 1, 1, 0, 1, 1, 1, 1, 1, 1,\n",
              "       1, 1, 1, 1, 1, 1, 1, 1, 1, 1, 1, 1, 1, 1, 1, 1, 1, 1, 1, 1, 1, 1,\n",
              "       1, 1, 1, 1, 1, 1, 1, 1, 1, 1, 1, 1, 1, 1, 1, 1, 1, 1, 1, 1, 1, 1,\n",
              "       1, 1, 1, 1, 1, 1, 1, 0, 1, 1, 1, 1, 1, 0, 1, 1, 1, 1, 1, 0, 1, 1,\n",
              "       1, 1, 1, 1, 1, 1, 1, 1, 1, 1, 1, 1, 1, 1, 1, 1, 1, 1, 1, 1, 1, 1,\n",
              "       1, 1, 1, 1, 1, 1, 1, 0, 1, 1, 1, 1, 1, 1, 1, 1, 1, 1, 1, 1, 1, 1,\n",
              "       1, 1, 1, 0, 1, 1, 1, 1, 1, 1, 1, 1, 1, 1, 0, 1, 1, 1, 1, 1, 0, 0,\n",
              "       1, 1, 1, 1, 1, 1, 1, 1, 1, 1, 1, 1, 1, 1, 1, 1, 1, 1, 1, 1, 1, 1,\n",
              "       1, 1, 1, 1, 1, 1, 1, 1, 1, 1, 1, 1, 1, 1, 1, 1, 1, 1, 1, 1, 1, 1,\n",
              "       1, 1, 1, 1, 1, 1, 1, 1, 0, 1, 0, 1, 1, 1, 1, 1, 1, 1, 1, 1, 0, 1,\n",
              "       1, 1])"
            ]
          },
          "metadata": {},
          "execution_count": 57
        }
      ]
    },
    {
      "cell_type": "code",
      "source": [
        "from sklearn.metrics import f1_score, confusion_matrix\n",
        "\n",
        "f1_score(test_left.classes,classes, average=None)"
      ],
      "metadata": {
        "colab": {
          "base_uri": "https://localhost:8080/"
        },
        "outputId": "59c81f2e-76e0-425c-b86b-b3e34abc3640",
        "id": "cUBC99LwK63r"
      },
      "execution_count": null,
      "outputs": [
        {
          "output_type": "execute_result",
          "data": {
            "text/plain": [
              "array([0.03333333, 0.95245902])"
            ]
          },
          "metadata": {},
          "execution_count": 58
        }
      ]
    },
    {
      "cell_type": "code",
      "source": [
        "confusion_matrix(test_left.classes,classes)"
      ],
      "metadata": {
        "colab": {
          "base_uri": "https://localhost:8080/"
        },
        "outputId": "ef1dadd3-4993-450f-d74b-83e80dffa4e2",
        "id": "DE7f89l-K63s"
      },
      "execution_count": null,
      "outputs": [
        {
          "output_type": "execute_result",
          "data": {
            "text/plain": [
              "array([[  1,  29],\n",
              "       [ 29, 581]])"
            ]
          },
          "metadata": {},
          "execution_count": 59
        }
      ]
    },
    {
      "cell_type": "code",
      "source": [
        "prediction = model.predict(train_left)"
      ],
      "metadata": {
        "id": "a2jwy8FvK63t"
      },
      "execution_count": null,
      "outputs": []
    },
    {
      "cell_type": "code",
      "source": [
        "prediction"
      ],
      "metadata": {
        "colab": {
          "base_uri": "https://localhost:8080/"
        },
        "outputId": "c0457dbb-a041-4904-ab6d-debfc16c29f9",
        "id": "C6bkaoNvK63t"
      },
      "execution_count": null,
      "outputs": [
        {
          "output_type": "execute_result",
          "data": {
            "text/plain": [
              "array([[2.0739759e-11, 1.0000000e+00],\n",
              "       [1.4991570e-16, 1.0000000e+00],\n",
              "       [6.3541223e-19, 1.0000000e+00],\n",
              "       ...,\n",
              "       [0.0000000e+00, 1.0000000e+00],\n",
              "       [3.1916498e-37, 1.0000000e+00],\n",
              "       [4.3275505e-12, 1.0000000e+00]], dtype=float32)"
            ]
          },
          "metadata": {},
          "execution_count": 61
        }
      ]
    },
    {
      "cell_type": "code",
      "source": [
        "classes = np.argmax(prediction, axis=-1)\n",
        "classes"
      ],
      "metadata": {
        "colab": {
          "base_uri": "https://localhost:8080/"
        },
        "outputId": "111049e2-6683-403c-cb35-616838516e7d",
        "id": "6BnvDDHiK63u"
      },
      "execution_count": null,
      "outputs": [
        {
          "output_type": "execute_result",
          "data": {
            "text/plain": [
              "array([1, 1, 1, ..., 1, 1, 1])"
            ]
          },
          "metadata": {},
          "execution_count": 62
        }
      ]
    },
    {
      "cell_type": "code",
      "source": [
        "from sklearn.metrics import f1_score, confusion_matrix\n",
        "\n",
        "f1_score(train_left.classes,classes, average=None)"
      ],
      "metadata": {
        "colab": {
          "base_uri": "https://localhost:8080/"
        },
        "outputId": "81dac0bd-78e4-441f-cb19-6a5dc8cf0b0c",
        "id": "cvBxLgmDK63u"
      },
      "execution_count": null,
      "outputs": [
        {
          "output_type": "execute_result",
          "data": {
            "text/plain": [
              "array([0.01666667, 0.95159967])"
            ]
          },
          "metadata": {},
          "execution_count": 63
        }
      ]
    },
    {
      "cell_type": "code",
      "source": [
        "confusion_matrix(train_left.classes,classes)"
      ],
      "metadata": {
        "colab": {
          "base_uri": "https://localhost:8080/"
        },
        "outputId": "83ccf9ed-11bd-46d8-e340-90f01b21bdd0",
        "id": "ULSOkk8bK63v"
      },
      "execution_count": null,
      "outputs": [
        {
          "output_type": "execute_result",
          "data": {
            "text/plain": [
              "array([[   2,  121],\n",
              "       [ 115, 2320]])"
            ]
          },
          "metadata": {},
          "execution_count": 64
        }
      ]
    },
    {
      "cell_type": "code",
      "source": [
        "url = './preprocessed_images/0_left.jpg'"
      ],
      "metadata": {
        "id": "gjsrygvQFJT7"
      },
      "execution_count": null,
      "outputs": []
    },
    {
      "cell_type": "code",
      "source": [
        "def read_and_transform_img(url):\n",
        "\n",
        "    img = keras.preprocessing.image.load_img(\n",
        "    url, target_size=(224,224))\n",
        "    img_array = keras.preprocessing.image.img_to_array(img)\n",
        "\n",
        "    return img_array\n",
        "\n",
        "images = read_and_transform_img(url)"
      ],
      "metadata": {
        "id": "EaM7pUwbFJT8"
      },
      "execution_count": null,
      "outputs": []
    },
    {
      "cell_type": "code",
      "source": [
        "images.shape"
      ],
      "metadata": {
        "colab": {
          "base_uri": "https://localhost:8080/"
        },
        "outputId": "ffbb0972-2264-4375-8347-208ea2a878db",
        "id": "Cu6SUpkJFJT9"
      },
      "execution_count": null,
      "outputs": [
        {
          "output_type": "execute_result",
          "data": {
            "text/plain": [
              "(224, 224, 3)"
            ]
          },
          "metadata": {},
          "execution_count": 67
        }
      ]
    },
    {
      "cell_type": "code",
      "source": [
        "explainer = lime_image.LimeImageExplainer()\n",
        "\n",
        "explanation = explainer.explain_instance(images.astype('double'), model.predict,  \n",
        "                                         top_labels=10, hide_color=0, num_samples=1000)"
      ],
      "metadata": {
        "colab": {
          "base_uri": "https://localhost:8080/",
          "height": 49,
          "referenced_widgets": [
            "80747a7223244b1bbac6c1dbf2ec5fc6",
            "c1c68d7a1cbd4f5485124ac8b7da1158",
            "64fe2fff27974649b28fcb4dfd102b0f",
            "4e1db9ed2c224c3cbf51ced2643b60fb",
            "4d75117c1f8f424db2dd3e6c4b4a8b00",
            "2a7d38f5da5243279770b4aa2d7b3007",
            "216740f7d4df4dcbbb61169b46bf85a1",
            "483fee0683284083af147796fc251265",
            "5190ffdadebb40e4a4b2d0dc40c4519b",
            "8878936d28ac453abb73e821e4c4b6f3",
            "3bd299c4ed7b43f7a758dc6f76275a13"
          ]
        },
        "outputId": "7f607191-b209-482c-9f22-8695e4fa041a",
        "id": "VA8feXUQFJT-"
      },
      "execution_count": null,
      "outputs": [
        {
          "output_type": "display_data",
          "data": {
            "application/vnd.jupyter.widget-view+json": {
              "model_id": "80747a7223244b1bbac6c1dbf2ec5fc6",
              "version_minor": 0,
              "version_major": 2
            },
            "text/plain": [
              "  0%|          | 0/1000 [00:00<?, ?it/s]"
            ]
          },
          "metadata": {}
        }
      ]
    },
    {
      "cell_type": "code",
      "source": [
        "temp_1, mask_1 = explanation.get_image_and_mask(explanation.top_labels[0], positive_only=True, num_features=10, hide_rest=True)\n",
        "temp_2, mask_2 = explanation.get_image_and_mask(explanation.top_labels[0], positive_only=False, num_features=50, hide_rest=False)\n",
        "\n",
        "fig, (ax1, ax2) = plt.subplots(1, 2, figsize=(15,15))\n",
        "ax1.imshow(mark_boundaries(temp_1, mask_1))\n",
        "ax2.imshow(mark_boundaries(temp_2, mask_2))\n",
        "ax1.axis('off')\n",
        "ax2.axis('off')"
      ],
      "metadata": {
        "colab": {
          "base_uri": "https://localhost:8080/",
          "height": 463
        },
        "outputId": "9cfa2dcb-3d18-4ed8-d66f-1a6eb7c9ab0a",
        "id": "b5UsVE0rFJT_"
      },
      "execution_count": null,
      "outputs": [
        {
          "output_type": "stream",
          "name": "stderr",
          "text": [
            "Clipping input data to the valid range for imshow with RGB data ([0..1] for floats or [0..255] for integers).\n",
            "Clipping input data to the valid range for imshow with RGB data ([0..1] for floats or [0..255] for integers).\n"
          ]
        },
        {
          "output_type": "execute_result",
          "data": {
            "text/plain": [
              "(-0.5, 223.5, 223.5, -0.5)"
            ]
          },
          "metadata": {},
          "execution_count": 69
        },
        {
          "output_type": "display_data",
          "data": {
            "image/png": "[encoded data removed]",
            "text/plain": [
              "<Figure size 1080x1080 with 2 Axes>"
            ]
          },
          "metadata": {
            "needs_background": "light"
          }
        }
      ]
    },
    {
      "cell_type": "markdown",
      "source": [
        "#Prediction on single image using EfficientNetV2"
      ],
      "metadata": {
        "id": "ZZMRr8vaV_3_"
      }
    },
    {
      "cell_type": "code",
      "source": [
        "idx = []\n",
        "for i in range(len(train_left.classes)):\n",
        "         if train_left.classes[i] != classes[i]:\n",
        "               idx.append(i)"
      ],
      "metadata": {
        "id": "Pi9I6Ceev66z"
      },
      "execution_count": null,
      "outputs": []
    },
    {
      "cell_type": "code",
      "source": [
        "len(idx), len(train_left.classes)"
      ],
      "metadata": {
        "colab": {
          "base_uri": "https://localhost:8080/"
        },
        "id": "BGEP_cshxori",
        "outputId": "aa99e6ad-e041-451b-db68-3088a2c3bb4f"
      },
      "execution_count": null,
      "outputs": [
        {
          "output_type": "execute_result",
          "data": {
            "text/plain": [
              "(236, 2558)"
            ]
          },
          "metadata": {},
          "execution_count": 72
        }
      ]
    },
    {
      "cell_type": "code",
      "source": [
        "train = train.reset_index(drop=True)"
      ],
      "metadata": {
        "id": "vF-iY3IHy07w"
      },
      "execution_count": null,
      "outputs": []
    },
    {
      "cell_type": "code",
      "source": [
        "fn = []\n",
        "tr = []\n",
        "for j in idx:\n",
        "     filename = train['Left-Fundus'][j]\n",
        "     fn.append(filename)\n",
        "     tr.append(train['cataract'][j])"
      ],
      "metadata": {
        "id": "aStSkZSAxpu4"
      },
      "execution_count": null,
      "outputs": []
    },
    {
      "cell_type": "code",
      "source": [
        "fn[2], tr[2]"
      ],
      "metadata": {
        "colab": {
          "base_uri": "https://localhost:8080/"
        },
        "id": "tItlVlnMyw18",
        "outputId": "f0845261-6abc-4aae-91a5-f037eb9d03ed"
      },
      "execution_count": null,
      "outputs": [
        {
          "output_type": "execute_result",
          "data": {
            "text/plain": [
              "('2128_left.jpg', 'cat')"
            ]
          },
          "metadata": {},
          "execution_count": 94
        }
      ]
    },
    {
      "cell_type": "code",
      "source": [
        "url = './preprocessed_images/2128_left.jpg'"
      ],
      "metadata": {
        "id": "oY-vcPDuy-Qz"
      },
      "execution_count": null,
      "outputs": []
    },
    {
      "cell_type": "code",
      "source": [
        "def read_and_transform_img(url):\n",
        "\n",
        "    img = keras.preprocessing.image.load_img(\n",
        "    url, target_size=(224,224))\n",
        "    img_array = keras.preprocessing.image.img_to_array(img)\n",
        "\n",
        "    return img_array\n",
        "\n",
        "images = read_and_transform_img(url)"
      ],
      "metadata": {
        "id": "m7tyMOr40li3"
      },
      "execution_count": null,
      "outputs": []
    },
    {
      "cell_type": "code",
      "source": [
        "images.shape"
      ],
      "metadata": {
        "colab": {
          "base_uri": "https://localhost:8080/"
        },
        "outputId": "1db79e29-c90f-4533-b33f-cb098e152565",
        "id": "HZoNSduX0li4"
      },
      "execution_count": null,
      "outputs": [
        {
          "output_type": "execute_result",
          "data": {
            "text/plain": [
              "(224, 224, 3)"
            ]
          },
          "metadata": {},
          "execution_count": 97
        }
      ]
    },
    {
      "cell_type": "code",
      "source": [
        "explainer = lime_image.LimeImageExplainer()\n",
        "\n",
        "explanation = explainer.explain_instance(images.astype('double'), model.predict,  \n",
        "                                         top_labels=10, hide_color=0, num_samples=1000)"
      ],
      "metadata": {
        "colab": {
          "base_uri": "https://localhost:8080/",
          "height": 49,
          "referenced_widgets": [
            "a9397bea7f2241f8b6f9cf78e5b0a2bd",
            "58fde1692feb4afc8cc2d0f231954ecd",
            "37b356c34e1b4d89bc60503473f28a09",
            "6591cf3ff6a34b43ba25637b12baa4cb",
            "6cc179d3ab1d45cdb5dcf0df7baa587f",
            "731161a1323a4f3aa698c9156d42c0b2",
            "916d60fc14bb441dbe9c7634bb5fd818",
            "663ce6c3a8bd4a129f665b2219fd8d0b",
            "b8a6129d15164f33bc6d870fdec1cbf0",
            "f6d485d7668e4780baf4ecb1549b4aa6",
            "a6698ac822b54ccca384ba9446999fbe"
          ]
        },
        "outputId": "ea774dc1-1406-4538-987f-881a3c35bfd1",
        "id": "Y7X1bEAx0li4"
      },
      "execution_count": null,
      "outputs": [
        {
          "output_type": "display_data",
          "data": {
            "application/vnd.jupyter.widget-view+json": {
              "model_id": "a9397bea7f2241f8b6f9cf78e5b0a2bd",
              "version_minor": 0,
              "version_major": 2
            },
            "text/plain": [
              "  0%|          | 0/1000 [00:00<?, ?it/s]"
            ]
          },
          "metadata": {}
        }
      ]
    },
    {
      "cell_type": "code",
      "source": [
        "temp_1, mask_1 = explanation.get_image_and_mask(explanation.top_labels[0], positive_only=True, num_features=10, hide_rest=True)\n",
        "temp_2, mask_2 = explanation.get_image_and_mask(explanation.top_labels[0], positive_only=False, num_features=50, hide_rest=False)\n",
        "\n",
        "fig, (ax1, ax2) = plt.subplots(1, 2, figsize=(15,15))\n",
        "ax1.imshow(mark_boundaries(temp_1, mask_1))\n",
        "ax2.imshow(mark_boundaries(temp_2, mask_2))\n",
        "ax1.axis('off')\n",
        "ax2.axis('off')"
      ],
      "metadata": {
        "colab": {
          "base_uri": "https://localhost:8080/",
          "height": 463
        },
        "outputId": "6f3f6fae-7d72-4572-dceb-75f150354539",
        "id": "EeG0kojX0li5"
      },
      "execution_count": null,
      "outputs": [
        {
          "output_type": "stream",
          "name": "stderr",
          "text": [
            "Clipping input data to the valid range for imshow with RGB data ([0..1] for floats or [0..255] for integers).\n",
            "Clipping input data to the valid range for imshow with RGB data ([0..1] for floats or [0..255] for integers).\n"
          ]
        },
        {
          "output_type": "execute_result",
          "data": {
            "text/plain": [
              "(-0.5, 223.5, 223.5, -0.5)"
            ]
          },
          "metadata": {},
          "execution_count": 99
        },
        {
          "output_type": "display_data",
          "data": {
            "image/png": "[encoded data removed]",
            "text/plain": [
              "<Figure size 1080x1080 with 2 Axes>"
            ]
          },
          "metadata": {
            "needs_background": "light"
          }
        }
      ]
    },
    {
      "cell_type": "code",
      "source": [
        "img_array = tf.expand_dims(images, 0)"
      ],
      "metadata": {
        "id": "m13D27mL1HGM"
      },
      "execution_count": null,
      "outputs": []
    },
    {
      "cell_type": "code",
      "source": [
        "pred = model.predict(img_array)\n",
        "cl = np.max(pred)\n",
        "cl"
      ],
      "metadata": {
        "colab": {
          "base_uri": "https://localhost:8080/"
        },
        "id": "aP9JelUp1JrR",
        "outputId": "ad733086-6b0e-4a24-e649-b3cbb2babc3c"
      },
      "execution_count": null,
      "outputs": [
        {
          "output_type": "execute_result",
          "data": {
            "text/plain": [
              "0.82528275"
            ]
          },
          "metadata": {},
          "execution_count": 101
        }
      ]
    },
    {
      "cell_type": "code",
      "source": [
        "cla = np.argmax(pred, axis=-1)\n",
        "cla"
      ],
      "metadata": {
        "colab": {
          "base_uri": "https://localhost:8080/"
        },
        "id": "5hhb4rvj1Uk5",
        "outputId": "c1abdce6-b03f-4b0a-db19-41ef9f416b3c"
      },
      "execution_count": null,
      "outputs": [
        {
          "output_type": "execute_result",
          "data": {
            "text/plain": [
              "array([0])"
            ]
          },
          "metadata": {},
          "execution_count": 102
        }
      ]
    },
    {
      "cell_type": "code",
      "source": [
        "pred"
      ],
      "metadata": {
        "colab": {
          "base_uri": "https://localhost:8080/"
        },
        "id": "YW889EGf6H3g",
        "outputId": "55b712bb-7891-4816-d2a6-bdc883c5b857"
      },
      "execution_count": null,
      "outputs": [
        {
          "output_type": "execute_result",
          "data": {
            "text/plain": [
              "array([[0.82528275, 0.17471726]], dtype=float32)"
            ]
          },
          "metadata": {},
          "execution_count": 103
        }
      ]
    },
    {
      "cell_type": "code",
      "source": [
        "idx[2]"
      ],
      "metadata": {
        "colab": {
          "base_uri": "https://localhost:8080/"
        },
        "id": "zHSzoC_0164U",
        "outputId": "4778d3db-7e44-42fc-8aa4-01427eef99dc"
      },
      "execution_count": null,
      "outputs": [
        {
          "output_type": "execute_result",
          "data": {
            "text/plain": [
              "46"
            ]
          },
          "metadata": {},
          "execution_count": 104
        }
      ]
    },
    {
      "cell_type": "code",
      "source": [
        "train_left.classes[46], classes[46]"
      ],
      "metadata": {
        "colab": {
          "base_uri": "https://localhost:8080/"
        },
        "id": "gLXhJpW932yi",
        "outputId": "2d9adf68-dcd2-4324-9a00-be5b366e901b"
      },
      "execution_count": null,
      "outputs": [
        {
          "output_type": "execute_result",
          "data": {
            "text/plain": [
              "(0, 1)"
            ]
          },
          "metadata": {},
          "execution_count": 105
        }
      ]
    },
    {
      "cell_type": "code",
      "source": [
        ""
      ],
      "metadata": {
        "id": "bq1xzqcT38TF"
      },
      "execution_count": null,
      "outputs": []
    }
  ]
}